{
 "cells": [
  {
   "cell_type": "code",
   "execution_count": 1,
   "id": "4570f042",
   "metadata": {
    "execution": {
     "iopub.execute_input": "2024-12-14T06:37:11.329342Z",
     "iopub.status.busy": "2024-12-14T06:37:11.328991Z",
     "iopub.status.idle": "2024-12-14T06:37:24.129308Z",
     "shell.execute_reply": "2024-12-14T06:37:24.128593Z"
    },
    "papermill": {
     "duration": 12.808684,
     "end_time": "2024-12-14T06:37:24.131410",
     "exception": false,
     "start_time": "2024-12-14T06:37:11.322726",
     "status": "completed"
    },
    "tags": []
   },
   "outputs": [],
   "source": [
    "import os\n",
    "import keras\n",
    "import librosa\n",
    "import numpy as np\n",
    "import matplotlib.pyplot as plt\n",
    "import tensorflow as tf\n",
    "import keras.backend as K\n",
    "from keras.models import Sequential\n",
    "from keras.utils import to_categorical\n",
    "from sklearn.metrics import classification_report, f1_score\n",
    "from tensorflow.keras.utils import to_categorical\n",
    "from sklearn.model_selection import train_test_split\n",
    "from keras.layers import Dense, Dropout, Flatten, Conv2D, MaxPooling2D, BatchNormalization, Activation"
   ]
  },
  {
   "cell_type": "code",
   "execution_count": 2,
   "id": "fbe67808",
   "metadata": {
    "execution": {
     "iopub.execute_input": "2024-12-14T06:37:24.142675Z",
     "iopub.status.busy": "2024-12-14T06:37:24.142139Z",
     "iopub.status.idle": "2024-12-14T06:37:24.146672Z",
     "shell.execute_reply": "2024-12-14T06:37:24.145545Z"
    },
    "papermill": {
     "duration": 0.012427,
     "end_time": "2024-12-14T06:37:24.148436",
     "exception": false,
     "start_time": "2024-12-14T06:37:24.136009",
     "status": "completed"
    },
    "tags": []
   },
   "outputs": [],
   "source": [
    "data_dir = '/kaggle/input/free-spoken-digit-dataset'"
   ]
  },
  {
   "cell_type": "markdown",
   "id": "d1f63108",
   "metadata": {
    "papermill": {
     "duration": 0.004088,
     "end_time": "2024-12-14T06:37:24.156744",
     "exception": false,
     "start_time": "2024-12-14T06:37:24.152656",
     "status": "completed"
    },
    "tags": []
   },
   "source": [
    "### Preprocessing Dataset"
   ]
  },
  {
   "cell_type": "code",
   "execution_count": 3,
   "id": "35fdec68",
   "metadata": {
    "execution": {
     "iopub.execute_input": "2024-12-14T06:37:24.166067Z",
     "iopub.status.busy": "2024-12-14T06:37:24.165807Z",
     "iopub.status.idle": "2024-12-14T06:37:24.176139Z",
     "shell.execute_reply": "2024-12-14T06:37:24.175391Z"
    },
    "papermill": {
     "duration": 0.016831,
     "end_time": "2024-12-14T06:37:24.177744",
     "exception": false,
     "start_time": "2024-12-14T06:37:24.160913",
     "status": "completed"
    },
    "tags": []
   },
   "outputs": [],
   "source": [
    "import os\n",
    "import numpy as np\n",
    "import librosa\n",
    "from tensorflow.keras.utils import to_categorical\n",
    "\n",
    "def wav2mfcc(file_path, max_pad_len=20, target_sr=8000, n_fft=512):\n",
    "    try:\n",
    "        # Load and resample the audio file\n",
    "        wave, sr = librosa.load(file_path, mono=True, sr=target_sr)\n",
    "\n",
    "        # Check if the audio is long enough for the specified n_fft\n",
    "        if len(wave) < n_fft:\n",
    "            pad_width = n_fft - len(wave)\n",
    "            wave = np.pad(wave, (0, pad_width), mode='constant')\n",
    "            print(f\"Padded audio {file_path} with {pad_width} zeros.\")\n",
    "        \n",
    "        # Extract MFCC features\n",
    "        mfcc = librosa.feature.mfcc(y=wave, sr=sr, n_mfcc=20, n_fft=n_fft)\n",
    "\n",
    "        # Pad or truncate the MFCC features to a fixed length\n",
    "        pad_width = max_pad_len - mfcc.shape[1]\n",
    "        if pad_width > 0:\n",
    "            mfcc = np.pad(mfcc, pad_width=((0, 0), (0, pad_width)), mode='constant')\n",
    "        else:\n",
    "            mfcc = mfcc[:, :max_pad_len]\n",
    "\n",
    "        return mfcc\n",
    "    except Exception as e:\n",
    "        print(f\"Error processing {file_path}: {e}\")\n",
    "        return None\n",
    "\n",
    "def get_data(data_dir, excluded_author='yweweler', max_pad_len=20, target_sr=8000, n_fft=512):\n",
    "    labels = []\n",
    "    mfccs = []\n",
    "    authors = []\n",
    "\n",
    "    retained_mfccs = []\n",
    "    retained_labels = []\n",
    "    excluded_mfccs = []\n",
    "    excluded_labels = []\n",
    "\n",
    "    for f in os.listdir(data_dir):\n",
    "        if f.endswith('.wav'):\n",
    "            file_path = os.path.join(data_dir, f)\n",
    "            \n",
    "            # Extract MFCC features\n",
    "            mfcc = wav2mfcc(file_path, max_pad_len, target_sr, n_fft)\n",
    "            if mfcc is not None:\n",
    "                # Extract label and author from filename\n",
    "                try:\n",
    "                    label = int(f.split('_')[0])\n",
    "                    author = f.split('_')[1]\n",
    "\n",
    "                    # Append to full dataset\n",
    "                    mfccs.append(mfcc)\n",
    "                    labels.append(label)\n",
    "                    authors.append(author)\n",
    "\n",
    "                    # Separate into retained and excluded datasets\n",
    "                    if author == excluded_author:\n",
    "                        excluded_mfccs.append(mfcc)\n",
    "                        excluded_labels.append(label)\n",
    "                    else:\n",
    "                        retained_mfccs.append(mfcc)\n",
    "                        retained_labels.append(label)\n",
    "                except ValueError:\n",
    "                    print(f\"Invalid label in filename: {f}\")\n",
    "                    continue\n",
    "\n",
    "    # Convert data to numpy arrays\n",
    "    X = np.asarray(mfccs)\n",
    "    y = to_categorical(labels)\n",
    "\n",
    "    X_retained = np.asarray(retained_mfccs)\n",
    "    y_retained = to_categorical(retained_labels)\n",
    "\n",
    "    X_excluded = np.asarray(excluded_mfccs)\n",
    "    y_excluded = to_categorical(excluded_labels)\n",
    "\n",
    "    return X, y, authors, X_retained, y_retained, X_excluded, y_excluded"
   ]
  },
  {
   "cell_type": "code",
   "execution_count": 4,
   "id": "6bfa0945",
   "metadata": {
    "execution": {
     "iopub.execute_input": "2024-12-14T06:37:24.186996Z",
     "iopub.status.busy": "2024-12-14T06:37:24.186742Z",
     "iopub.status.idle": "2024-12-14T06:38:06.853940Z",
     "shell.execute_reply": "2024-12-14T06:38:06.853035Z"
    },
    "papermill": {
     "duration": 42.6775,
     "end_time": "2024-12-14T06:38:06.859359",
     "exception": false,
     "start_time": "2024-12-14T06:37:24.181859",
     "status": "completed"
    },
    "tags": []
   },
   "outputs": [
    {
     "name": "stdout",
     "output_type": "stream",
     "text": [
      "X shape: (3000, 20, 20), y shape: (3000, 10), types: (<class 'numpy.ndarray'>, <class 'numpy.ndarray'>)\n",
      "X_excluded shape: (500, 20, 20), y_excluded shape: (500, 10), types: (<class 'numpy.ndarray'>, <class 'numpy.ndarray'>)\n",
      "X_retained shape: (2500, 20, 20), y_retained shape: (2500, 10), types: (<class 'numpy.ndarray'>, <class 'numpy.ndarray'>)\n"
     ]
    }
   ],
   "source": [
    "X, y, authors_list, X_retained, y_retained, X_excluded, y_excluded = get_data(data_dir)\n",
    "\n",
    "\n",
    "print(f\"X shape: {X.shape}, y shape: {y.shape}, types: {type(X), type(y)}\")\n",
    "print(f\"X_excluded shape: {X_excluded.shape}, y_excluded shape: {y_excluded.shape}, types: {type(X_excluded), type(y_excluded)}\")\n",
    "print(f\"X_retained shape: {X_retained.shape}, y_retained shape: {y_retained.shape}, types: {type(X_retained), type(y_retained)}\")"
   ]
  },
  {
   "cell_type": "markdown",
   "id": "ad96021d",
   "metadata": {
    "papermill": {
     "duration": 0.004023,
     "end_time": "2024-12-14T06:38:06.867776",
     "exception": false,
     "start_time": "2024-12-14T06:38:06.863753",
     "status": "completed"
    },
    "tags": []
   },
   "source": [
    "### Split into Training and Test Sets"
   ]
  },
  {
   "cell_type": "code",
   "execution_count": 5,
   "id": "adf16e29",
   "metadata": {
    "execution": {
     "iopub.execute_input": "2024-12-14T06:38:06.877662Z",
     "iopub.status.busy": "2024-12-14T06:38:06.877082Z",
     "iopub.status.idle": "2024-12-14T06:38:06.892938Z",
     "shell.execute_reply": "2024-12-14T06:38:06.892020Z"
    },
    "papermill": {
     "duration": 0.02245,
     "end_time": "2024-12-14T06:38:06.894500",
     "exception": false,
     "start_time": "2024-12-14T06:38:06.872050",
     "status": "completed"
    },
    "tags": []
   },
   "outputs": [
    {
     "name": "stdout",
     "output_type": "stream",
     "text": [
      "X shape: (3000, 20, 20, 1), y shape: (3000, 10)\n",
      "X_excluded shape: (500, 20, 20, 1), y_excluded shape: (500, 10)\n",
      "X_retained shape: (2500, 20, 20, 1), y_retained shape: (2500, 10)\n"
     ]
    }
   ],
   "source": [
    "# Reshape\n",
    "X = X.reshape(X.shape[0], X.shape[1], X.shape[2], 1)\n",
    "X_excluded = X_excluded.reshape(X_excluded.shape[0], X_excluded.shape[1], X_excluded.shape[2], 1)\n",
    "X_retained = X_retained.reshape(X_retained.shape[0], X_retained.shape[1], X_retained.shape[2], 1)\n",
    "\n",
    "print(f\"X shape: {X.shape}, y shape: {y.shape}\")\n",
    "print(f\"X_excluded shape: {X_excluded.shape}, y_excluded shape: {y_excluded.shape}\")\n",
    "print(f\"X_retained shape: {X_retained.shape}, y_retained shape: {y_retained.shape}\")\n",
    "\n",
    "input_shape = (X_retained.shape[1], X_retained.shape[2], 1)\n",
    "num_classes = y_retained.shape[1]\n",
    "\n",
    "# Split the retained data into training and testing sets\n",
    "seed = 95169\n",
    "X_train_retained, X_test_retained, y_train_retained, y_test_retained = train_test_split(X_retained, y_retained, test_size=0.1, random_state=seed)\n",
    "X_train_retained_train, X_val_retained, y_train_retained_train, y_val_retained = train_test_split(X_train_retained, y_train_retained, test_size=0.1, random_state=seed)\n",
    "# X_train, X_test, y_train, y_test = train_test_split(X, y, test_size=0.1, random_state=seed)"
   ]
  },
  {
   "cell_type": "code",
   "execution_count": 6,
   "id": "5cf3286f",
   "metadata": {
    "execution": {
     "iopub.execute_input": "2024-12-14T06:38:06.904076Z",
     "iopub.status.busy": "2024-12-14T06:38:06.903784Z",
     "iopub.status.idle": "2024-12-14T06:38:06.910503Z",
     "shell.execute_reply": "2024-12-14T06:38:06.909911Z"
    },
    "papermill": {
     "duration": 0.01334,
     "end_time": "2024-12-14T06:38:06.912139",
     "exception": false,
     "start_time": "2024-12-14T06:38:06.898799",
     "status": "completed"
    },
    "tags": []
   },
   "outputs": [],
   "source": [
    "X_train = np.vstack((X_train_retained_train, X_excluded))\n",
    "y_train = np.vstack((y_train_retained_train, y_excluded))\n",
    "X_test = X_test_retained\n",
    "y_test = y_test_retained"
   ]
  },
  {
   "cell_type": "code",
   "execution_count": 7,
   "id": "868e8f21",
   "metadata": {
    "execution": {
     "iopub.execute_input": "2024-12-14T06:38:06.921875Z",
     "iopub.status.busy": "2024-12-14T06:38:06.921570Z",
     "iopub.status.idle": "2024-12-14T06:38:06.926394Z",
     "shell.execute_reply": "2024-12-14T06:38:06.925459Z"
    },
    "papermill": {
     "duration": 0.011573,
     "end_time": "2024-12-14T06:38:06.928048",
     "exception": false,
     "start_time": "2024-12-14T06:38:06.916475",
     "status": "completed"
    },
    "tags": []
   },
   "outputs": [
    {
     "name": "stdout",
     "output_type": "stream",
     "text": [
      "(2525, 20, 20, 1)\n",
      "(2525, 10)\n",
      "(2025, 20, 20, 1)\n",
      "(225, 20, 20, 1)\n",
      "(225, 10)\n"
     ]
    }
   ],
   "source": [
    "print(X_train.shape)\n",
    "print(y_train.shape)\n",
    "print(X_train_retained_train.shape)\n",
    "print(X_val_retained.shape)\n",
    "print(y_val_retained.shape)"
   ]
  },
  {
   "cell_type": "markdown",
   "id": "58f6cdbd",
   "metadata": {
    "papermill": {
     "duration": 0.004074,
     "end_time": "2024-12-14T06:38:06.936454",
     "exception": false,
     "start_time": "2024-12-14T06:38:06.932380",
     "status": "completed"
    },
    "tags": []
   },
   "source": [
    "CNN Model"
   ]
  },
  {
   "cell_type": "code",
   "execution_count": 8,
   "id": "43769fe7",
   "metadata": {
    "execution": {
     "iopub.execute_input": "2024-12-14T06:38:06.945991Z",
     "iopub.status.busy": "2024-12-14T06:38:06.945734Z",
     "iopub.status.idle": "2024-12-14T06:38:06.952773Z",
     "shell.execute_reply": "2024-12-14T06:38:06.952079Z"
    },
    "papermill": {
     "duration": 0.013722,
     "end_time": "2024-12-14T06:38:06.954392",
     "exception": false,
     "start_time": "2024-12-14T06:38:06.940670",
     "status": "completed"
    },
    "tags": []
   },
   "outputs": [],
   "source": [
    "def get_cnn_model(input_shape, num_classes):\n",
    "    model = Sequential()\n",
    "    \n",
    "    model.add(keras.Input((20, 20, 1)))\n",
    "\n",
    "    model.add(Conv2D(8, kernel_size=(2, 2), strides=2))\n",
    "    model.add(BatchNormalization())\n",
    "    model.add(Activation('relu'))\n",
    "    # model.add(MaxPooling2D(pool_size=(2, 2)))\n",
    "    model.add(Dropout(0.05))\n",
    "    \n",
    "    model.add(Conv2D(8, kernel_size=(2, 2), strides=2))\n",
    "    model.add(BatchNormalization())\n",
    "    model.add(Activation('relu'))    \n",
    "    # model.add(MaxPooling2D(pool_size=(2, 2)))\n",
    "    model.add(Dropout(0.05))\n",
    "    \n",
    "    model.add(Conv2D(16, kernel_size=(2, 2), strides=2))\n",
    "    model.add(BatchNormalization())\n",
    "    model.add(Activation('relu'))    \n",
    "    # model.add(MaxPooling2D(pool_size=(2, 2)))\n",
    "    model.add(Dropout(0.05))\n",
    "\n",
    "    model.add(Conv2D(16, kernel_size=(2, 2), strides=2))\n",
    "    model.add(BatchNormalization())\n",
    "    model.add(Activation('relu'))    \n",
    "    # model.add(MaxPooling2D(pool_size=(2, 2)))\n",
    "    model.add(Dropout(0.05))\n",
    "    \n",
    "    model.add(Flatten())\n",
    "    \n",
    "    model.add(Dense(32, activation='relu'))\n",
    "    model.add(BatchNormalization())\n",
    "    model.add(Dropout(0.25))\n",
    "    \n",
    "    model.add(Dense(num_classes, activation='softmax'))\n",
    "\n",
    "    model.compile(loss='categorical_crossentropy', optimizer='adam', metrics=['accuracy'])\n",
    "    \n",
    "    return model"
   ]
  },
  {
   "cell_type": "code",
   "execution_count": 9,
   "id": "61fdaa2f",
   "metadata": {
    "execution": {
     "iopub.execute_input": "2024-12-14T06:38:06.963736Z",
     "iopub.status.busy": "2024-12-14T06:38:06.963467Z",
     "iopub.status.idle": "2024-12-14T06:38:07.979985Z",
     "shell.execute_reply": "2024-12-14T06:38:07.979086Z"
    },
    "papermill": {
     "duration": 1.023212,
     "end_time": "2024-12-14T06:38:07.981774",
     "exception": false,
     "start_time": "2024-12-14T06:38:06.958562",
     "status": "completed"
    },
    "tags": []
   },
   "outputs": [
    {
     "data": {
      "text/html": [
       "<pre style=\"white-space:pre;overflow-x:auto;line-height:normal;font-family:Menlo,'DejaVu Sans Mono',consolas,'Courier New',monospace\"><span style=\"font-weight: bold\">Model: \"sequential\"</span>\n",
       "</pre>\n"
      ],
      "text/plain": [
       "\u001b[1mModel: \"sequential\"\u001b[0m\n"
      ]
     },
     "metadata": {},
     "output_type": "display_data"
    },
    {
     "data": {
      "text/html": [
       "<pre style=\"white-space:pre;overflow-x:auto;line-height:normal;font-family:Menlo,'DejaVu Sans Mono',consolas,'Courier New',monospace\">┏━━━━━━━━━━━━━━━━━━━━━━━━━━━━━━━━━┳━━━━━━━━━━━━━━━━━━━━━━━━┳━━━━━━━━━━━━━━━┓\n",
       "┃<span style=\"font-weight: bold\"> Layer (type)                    </span>┃<span style=\"font-weight: bold\"> Output Shape           </span>┃<span style=\"font-weight: bold\">       Param # </span>┃\n",
       "┡━━━━━━━━━━━━━━━━━━━━━━━━━━━━━━━━━╇━━━━━━━━━━━━━━━━━━━━━━━━╇━━━━━━━━━━━━━━━┩\n",
       "│ conv2d (<span style=\"color: #0087ff; text-decoration-color: #0087ff\">Conv2D</span>)                 │ (<span style=\"color: #00d7ff; text-decoration-color: #00d7ff\">None</span>, <span style=\"color: #00af00; text-decoration-color: #00af00\">10</span>, <span style=\"color: #00af00; text-decoration-color: #00af00\">10</span>, <span style=\"color: #00af00; text-decoration-color: #00af00\">8</span>)      │            <span style=\"color: #00af00; text-decoration-color: #00af00\">40</span> │\n",
       "├─────────────────────────────────┼────────────────────────┼───────────────┤\n",
       "│ batch_normalization             │ (<span style=\"color: #00d7ff; text-decoration-color: #00d7ff\">None</span>, <span style=\"color: #00af00; text-decoration-color: #00af00\">10</span>, <span style=\"color: #00af00; text-decoration-color: #00af00\">10</span>, <span style=\"color: #00af00; text-decoration-color: #00af00\">8</span>)      │            <span style=\"color: #00af00; text-decoration-color: #00af00\">32</span> │\n",
       "│ (<span style=\"color: #0087ff; text-decoration-color: #0087ff\">BatchNormalization</span>)            │                        │               │\n",
       "├─────────────────────────────────┼────────────────────────┼───────────────┤\n",
       "│ activation (<span style=\"color: #0087ff; text-decoration-color: #0087ff\">Activation</span>)         │ (<span style=\"color: #00d7ff; text-decoration-color: #00d7ff\">None</span>, <span style=\"color: #00af00; text-decoration-color: #00af00\">10</span>, <span style=\"color: #00af00; text-decoration-color: #00af00\">10</span>, <span style=\"color: #00af00; text-decoration-color: #00af00\">8</span>)      │             <span style=\"color: #00af00; text-decoration-color: #00af00\">0</span> │\n",
       "├─────────────────────────────────┼────────────────────────┼───────────────┤\n",
       "│ dropout (<span style=\"color: #0087ff; text-decoration-color: #0087ff\">Dropout</span>)               │ (<span style=\"color: #00d7ff; text-decoration-color: #00d7ff\">None</span>, <span style=\"color: #00af00; text-decoration-color: #00af00\">10</span>, <span style=\"color: #00af00; text-decoration-color: #00af00\">10</span>, <span style=\"color: #00af00; text-decoration-color: #00af00\">8</span>)      │             <span style=\"color: #00af00; text-decoration-color: #00af00\">0</span> │\n",
       "├─────────────────────────────────┼────────────────────────┼───────────────┤\n",
       "│ conv2d_1 (<span style=\"color: #0087ff; text-decoration-color: #0087ff\">Conv2D</span>)               │ (<span style=\"color: #00d7ff; text-decoration-color: #00d7ff\">None</span>, <span style=\"color: #00af00; text-decoration-color: #00af00\">5</span>, <span style=\"color: #00af00; text-decoration-color: #00af00\">5</span>, <span style=\"color: #00af00; text-decoration-color: #00af00\">8</span>)        │           <span style=\"color: #00af00; text-decoration-color: #00af00\">264</span> │\n",
       "├─────────────────────────────────┼────────────────────────┼───────────────┤\n",
       "│ batch_normalization_1           │ (<span style=\"color: #00d7ff; text-decoration-color: #00d7ff\">None</span>, <span style=\"color: #00af00; text-decoration-color: #00af00\">5</span>, <span style=\"color: #00af00; text-decoration-color: #00af00\">5</span>, <span style=\"color: #00af00; text-decoration-color: #00af00\">8</span>)        │            <span style=\"color: #00af00; text-decoration-color: #00af00\">32</span> │\n",
       "│ (<span style=\"color: #0087ff; text-decoration-color: #0087ff\">BatchNormalization</span>)            │                        │               │\n",
       "├─────────────────────────────────┼────────────────────────┼───────────────┤\n",
       "│ activation_1 (<span style=\"color: #0087ff; text-decoration-color: #0087ff\">Activation</span>)       │ (<span style=\"color: #00d7ff; text-decoration-color: #00d7ff\">None</span>, <span style=\"color: #00af00; text-decoration-color: #00af00\">5</span>, <span style=\"color: #00af00; text-decoration-color: #00af00\">5</span>, <span style=\"color: #00af00; text-decoration-color: #00af00\">8</span>)        │             <span style=\"color: #00af00; text-decoration-color: #00af00\">0</span> │\n",
       "├─────────────────────────────────┼────────────────────────┼───────────────┤\n",
       "│ dropout_1 (<span style=\"color: #0087ff; text-decoration-color: #0087ff\">Dropout</span>)             │ (<span style=\"color: #00d7ff; text-decoration-color: #00d7ff\">None</span>, <span style=\"color: #00af00; text-decoration-color: #00af00\">5</span>, <span style=\"color: #00af00; text-decoration-color: #00af00\">5</span>, <span style=\"color: #00af00; text-decoration-color: #00af00\">8</span>)        │             <span style=\"color: #00af00; text-decoration-color: #00af00\">0</span> │\n",
       "├─────────────────────────────────┼────────────────────────┼───────────────┤\n",
       "│ conv2d_2 (<span style=\"color: #0087ff; text-decoration-color: #0087ff\">Conv2D</span>)               │ (<span style=\"color: #00d7ff; text-decoration-color: #00d7ff\">None</span>, <span style=\"color: #00af00; text-decoration-color: #00af00\">2</span>, <span style=\"color: #00af00; text-decoration-color: #00af00\">2</span>, <span style=\"color: #00af00; text-decoration-color: #00af00\">16</span>)       │           <span style=\"color: #00af00; text-decoration-color: #00af00\">528</span> │\n",
       "├─────────────────────────────────┼────────────────────────┼───────────────┤\n",
       "│ batch_normalization_2           │ (<span style=\"color: #00d7ff; text-decoration-color: #00d7ff\">None</span>, <span style=\"color: #00af00; text-decoration-color: #00af00\">2</span>, <span style=\"color: #00af00; text-decoration-color: #00af00\">2</span>, <span style=\"color: #00af00; text-decoration-color: #00af00\">16</span>)       │            <span style=\"color: #00af00; text-decoration-color: #00af00\">64</span> │\n",
       "│ (<span style=\"color: #0087ff; text-decoration-color: #0087ff\">BatchNormalization</span>)            │                        │               │\n",
       "├─────────────────────────────────┼────────────────────────┼───────────────┤\n",
       "│ activation_2 (<span style=\"color: #0087ff; text-decoration-color: #0087ff\">Activation</span>)       │ (<span style=\"color: #00d7ff; text-decoration-color: #00d7ff\">None</span>, <span style=\"color: #00af00; text-decoration-color: #00af00\">2</span>, <span style=\"color: #00af00; text-decoration-color: #00af00\">2</span>, <span style=\"color: #00af00; text-decoration-color: #00af00\">16</span>)       │             <span style=\"color: #00af00; text-decoration-color: #00af00\">0</span> │\n",
       "├─────────────────────────────────┼────────────────────────┼───────────────┤\n",
       "│ dropout_2 (<span style=\"color: #0087ff; text-decoration-color: #0087ff\">Dropout</span>)             │ (<span style=\"color: #00d7ff; text-decoration-color: #00d7ff\">None</span>, <span style=\"color: #00af00; text-decoration-color: #00af00\">2</span>, <span style=\"color: #00af00; text-decoration-color: #00af00\">2</span>, <span style=\"color: #00af00; text-decoration-color: #00af00\">16</span>)       │             <span style=\"color: #00af00; text-decoration-color: #00af00\">0</span> │\n",
       "├─────────────────────────────────┼────────────────────────┼───────────────┤\n",
       "│ conv2d_3 (<span style=\"color: #0087ff; text-decoration-color: #0087ff\">Conv2D</span>)               │ (<span style=\"color: #00d7ff; text-decoration-color: #00d7ff\">None</span>, <span style=\"color: #00af00; text-decoration-color: #00af00\">1</span>, <span style=\"color: #00af00; text-decoration-color: #00af00\">1</span>, <span style=\"color: #00af00; text-decoration-color: #00af00\">16</span>)       │         <span style=\"color: #00af00; text-decoration-color: #00af00\">1,040</span> │\n",
       "├─────────────────────────────────┼────────────────────────┼───────────────┤\n",
       "│ batch_normalization_3           │ (<span style=\"color: #00d7ff; text-decoration-color: #00d7ff\">None</span>, <span style=\"color: #00af00; text-decoration-color: #00af00\">1</span>, <span style=\"color: #00af00; text-decoration-color: #00af00\">1</span>, <span style=\"color: #00af00; text-decoration-color: #00af00\">16</span>)       │            <span style=\"color: #00af00; text-decoration-color: #00af00\">64</span> │\n",
       "│ (<span style=\"color: #0087ff; text-decoration-color: #0087ff\">BatchNormalization</span>)            │                        │               │\n",
       "├─────────────────────────────────┼────────────────────────┼───────────────┤\n",
       "│ activation_3 (<span style=\"color: #0087ff; text-decoration-color: #0087ff\">Activation</span>)       │ (<span style=\"color: #00d7ff; text-decoration-color: #00d7ff\">None</span>, <span style=\"color: #00af00; text-decoration-color: #00af00\">1</span>, <span style=\"color: #00af00; text-decoration-color: #00af00\">1</span>, <span style=\"color: #00af00; text-decoration-color: #00af00\">16</span>)       │             <span style=\"color: #00af00; text-decoration-color: #00af00\">0</span> │\n",
       "├─────────────────────────────────┼────────────────────────┼───────────────┤\n",
       "│ dropout_3 (<span style=\"color: #0087ff; text-decoration-color: #0087ff\">Dropout</span>)             │ (<span style=\"color: #00d7ff; text-decoration-color: #00d7ff\">None</span>, <span style=\"color: #00af00; text-decoration-color: #00af00\">1</span>, <span style=\"color: #00af00; text-decoration-color: #00af00\">1</span>, <span style=\"color: #00af00; text-decoration-color: #00af00\">16</span>)       │             <span style=\"color: #00af00; text-decoration-color: #00af00\">0</span> │\n",
       "├─────────────────────────────────┼────────────────────────┼───────────────┤\n",
       "│ flatten (<span style=\"color: #0087ff; text-decoration-color: #0087ff\">Flatten</span>)               │ (<span style=\"color: #00d7ff; text-decoration-color: #00d7ff\">None</span>, <span style=\"color: #00af00; text-decoration-color: #00af00\">16</span>)             │             <span style=\"color: #00af00; text-decoration-color: #00af00\">0</span> │\n",
       "├─────────────────────────────────┼────────────────────────┼───────────────┤\n",
       "│ dense (<span style=\"color: #0087ff; text-decoration-color: #0087ff\">Dense</span>)                   │ (<span style=\"color: #00d7ff; text-decoration-color: #00d7ff\">None</span>, <span style=\"color: #00af00; text-decoration-color: #00af00\">32</span>)             │           <span style=\"color: #00af00; text-decoration-color: #00af00\">544</span> │\n",
       "├─────────────────────────────────┼────────────────────────┼───────────────┤\n",
       "│ batch_normalization_4           │ (<span style=\"color: #00d7ff; text-decoration-color: #00d7ff\">None</span>, <span style=\"color: #00af00; text-decoration-color: #00af00\">32</span>)             │           <span style=\"color: #00af00; text-decoration-color: #00af00\">128</span> │\n",
       "│ (<span style=\"color: #0087ff; text-decoration-color: #0087ff\">BatchNormalization</span>)            │                        │               │\n",
       "├─────────────────────────────────┼────────────────────────┼───────────────┤\n",
       "│ dropout_4 (<span style=\"color: #0087ff; text-decoration-color: #0087ff\">Dropout</span>)             │ (<span style=\"color: #00d7ff; text-decoration-color: #00d7ff\">None</span>, <span style=\"color: #00af00; text-decoration-color: #00af00\">32</span>)             │             <span style=\"color: #00af00; text-decoration-color: #00af00\">0</span> │\n",
       "├─────────────────────────────────┼────────────────────────┼───────────────┤\n",
       "│ dense_1 (<span style=\"color: #0087ff; text-decoration-color: #0087ff\">Dense</span>)                 │ (<span style=\"color: #00d7ff; text-decoration-color: #00d7ff\">None</span>, <span style=\"color: #00af00; text-decoration-color: #00af00\">10</span>)             │           <span style=\"color: #00af00; text-decoration-color: #00af00\">330</span> │\n",
       "└─────────────────────────────────┴────────────────────────┴───────────────┘\n",
       "</pre>\n"
      ],
      "text/plain": [
       "┏━━━━━━━━━━━━━━━━━━━━━━━━━━━━━━━━━┳━━━━━━━━━━━━━━━━━━━━━━━━┳━━━━━━━━━━━━━━━┓\n",
       "┃\u001b[1m \u001b[0m\u001b[1mLayer (type)                   \u001b[0m\u001b[1m \u001b[0m┃\u001b[1m \u001b[0m\u001b[1mOutput Shape          \u001b[0m\u001b[1m \u001b[0m┃\u001b[1m \u001b[0m\u001b[1m      Param #\u001b[0m\u001b[1m \u001b[0m┃\n",
       "┡━━━━━━━━━━━━━━━━━━━━━━━━━━━━━━━━━╇━━━━━━━━━━━━━━━━━━━━━━━━╇━━━━━━━━━━━━━━━┩\n",
       "│ conv2d (\u001b[38;5;33mConv2D\u001b[0m)                 │ (\u001b[38;5;45mNone\u001b[0m, \u001b[38;5;34m10\u001b[0m, \u001b[38;5;34m10\u001b[0m, \u001b[38;5;34m8\u001b[0m)      │            \u001b[38;5;34m40\u001b[0m │\n",
       "├─────────────────────────────────┼────────────────────────┼───────────────┤\n",
       "│ batch_normalization             │ (\u001b[38;5;45mNone\u001b[0m, \u001b[38;5;34m10\u001b[0m, \u001b[38;5;34m10\u001b[0m, \u001b[38;5;34m8\u001b[0m)      │            \u001b[38;5;34m32\u001b[0m │\n",
       "│ (\u001b[38;5;33mBatchNormalization\u001b[0m)            │                        │               │\n",
       "├─────────────────────────────────┼────────────────────────┼───────────────┤\n",
       "│ activation (\u001b[38;5;33mActivation\u001b[0m)         │ (\u001b[38;5;45mNone\u001b[0m, \u001b[38;5;34m10\u001b[0m, \u001b[38;5;34m10\u001b[0m, \u001b[38;5;34m8\u001b[0m)      │             \u001b[38;5;34m0\u001b[0m │\n",
       "├─────────────────────────────────┼────────────────────────┼───────────────┤\n",
       "│ dropout (\u001b[38;5;33mDropout\u001b[0m)               │ (\u001b[38;5;45mNone\u001b[0m, \u001b[38;5;34m10\u001b[0m, \u001b[38;5;34m10\u001b[0m, \u001b[38;5;34m8\u001b[0m)      │             \u001b[38;5;34m0\u001b[0m │\n",
       "├─────────────────────────────────┼────────────────────────┼───────────────┤\n",
       "│ conv2d_1 (\u001b[38;5;33mConv2D\u001b[0m)               │ (\u001b[38;5;45mNone\u001b[0m, \u001b[38;5;34m5\u001b[0m, \u001b[38;5;34m5\u001b[0m, \u001b[38;5;34m8\u001b[0m)        │           \u001b[38;5;34m264\u001b[0m │\n",
       "├─────────────────────────────────┼────────────────────────┼───────────────┤\n",
       "│ batch_normalization_1           │ (\u001b[38;5;45mNone\u001b[0m, \u001b[38;5;34m5\u001b[0m, \u001b[38;5;34m5\u001b[0m, \u001b[38;5;34m8\u001b[0m)        │            \u001b[38;5;34m32\u001b[0m │\n",
       "│ (\u001b[38;5;33mBatchNormalization\u001b[0m)            │                        │               │\n",
       "├─────────────────────────────────┼────────────────────────┼───────────────┤\n",
       "│ activation_1 (\u001b[38;5;33mActivation\u001b[0m)       │ (\u001b[38;5;45mNone\u001b[0m, \u001b[38;5;34m5\u001b[0m, \u001b[38;5;34m5\u001b[0m, \u001b[38;5;34m8\u001b[0m)        │             \u001b[38;5;34m0\u001b[0m │\n",
       "├─────────────────────────────────┼────────────────────────┼───────────────┤\n",
       "│ dropout_1 (\u001b[38;5;33mDropout\u001b[0m)             │ (\u001b[38;5;45mNone\u001b[0m, \u001b[38;5;34m5\u001b[0m, \u001b[38;5;34m5\u001b[0m, \u001b[38;5;34m8\u001b[0m)        │             \u001b[38;5;34m0\u001b[0m │\n",
       "├─────────────────────────────────┼────────────────────────┼───────────────┤\n",
       "│ conv2d_2 (\u001b[38;5;33mConv2D\u001b[0m)               │ (\u001b[38;5;45mNone\u001b[0m, \u001b[38;5;34m2\u001b[0m, \u001b[38;5;34m2\u001b[0m, \u001b[38;5;34m16\u001b[0m)       │           \u001b[38;5;34m528\u001b[0m │\n",
       "├─────────────────────────────────┼────────────────────────┼───────────────┤\n",
       "│ batch_normalization_2           │ (\u001b[38;5;45mNone\u001b[0m, \u001b[38;5;34m2\u001b[0m, \u001b[38;5;34m2\u001b[0m, \u001b[38;5;34m16\u001b[0m)       │            \u001b[38;5;34m64\u001b[0m │\n",
       "│ (\u001b[38;5;33mBatchNormalization\u001b[0m)            │                        │               │\n",
       "├─────────────────────────────────┼────────────────────────┼───────────────┤\n",
       "│ activation_2 (\u001b[38;5;33mActivation\u001b[0m)       │ (\u001b[38;5;45mNone\u001b[0m, \u001b[38;5;34m2\u001b[0m, \u001b[38;5;34m2\u001b[0m, \u001b[38;5;34m16\u001b[0m)       │             \u001b[38;5;34m0\u001b[0m │\n",
       "├─────────────────────────────────┼────────────────────────┼───────────────┤\n",
       "│ dropout_2 (\u001b[38;5;33mDropout\u001b[0m)             │ (\u001b[38;5;45mNone\u001b[0m, \u001b[38;5;34m2\u001b[0m, \u001b[38;5;34m2\u001b[0m, \u001b[38;5;34m16\u001b[0m)       │             \u001b[38;5;34m0\u001b[0m │\n",
       "├─────────────────────────────────┼────────────────────────┼───────────────┤\n",
       "│ conv2d_3 (\u001b[38;5;33mConv2D\u001b[0m)               │ (\u001b[38;5;45mNone\u001b[0m, \u001b[38;5;34m1\u001b[0m, \u001b[38;5;34m1\u001b[0m, \u001b[38;5;34m16\u001b[0m)       │         \u001b[38;5;34m1,040\u001b[0m │\n",
       "├─────────────────────────────────┼────────────────────────┼───────────────┤\n",
       "│ batch_normalization_3           │ (\u001b[38;5;45mNone\u001b[0m, \u001b[38;5;34m1\u001b[0m, \u001b[38;5;34m1\u001b[0m, \u001b[38;5;34m16\u001b[0m)       │            \u001b[38;5;34m64\u001b[0m │\n",
       "│ (\u001b[38;5;33mBatchNormalization\u001b[0m)            │                        │               │\n",
       "├─────────────────────────────────┼────────────────────────┼───────────────┤\n",
       "│ activation_3 (\u001b[38;5;33mActivation\u001b[0m)       │ (\u001b[38;5;45mNone\u001b[0m, \u001b[38;5;34m1\u001b[0m, \u001b[38;5;34m1\u001b[0m, \u001b[38;5;34m16\u001b[0m)       │             \u001b[38;5;34m0\u001b[0m │\n",
       "├─────────────────────────────────┼────────────────────────┼───────────────┤\n",
       "│ dropout_3 (\u001b[38;5;33mDropout\u001b[0m)             │ (\u001b[38;5;45mNone\u001b[0m, \u001b[38;5;34m1\u001b[0m, \u001b[38;5;34m1\u001b[0m, \u001b[38;5;34m16\u001b[0m)       │             \u001b[38;5;34m0\u001b[0m │\n",
       "├─────────────────────────────────┼────────────────────────┼───────────────┤\n",
       "│ flatten (\u001b[38;5;33mFlatten\u001b[0m)               │ (\u001b[38;5;45mNone\u001b[0m, \u001b[38;5;34m16\u001b[0m)             │             \u001b[38;5;34m0\u001b[0m │\n",
       "├─────────────────────────────────┼────────────────────────┼───────────────┤\n",
       "│ dense (\u001b[38;5;33mDense\u001b[0m)                   │ (\u001b[38;5;45mNone\u001b[0m, \u001b[38;5;34m32\u001b[0m)             │           \u001b[38;5;34m544\u001b[0m │\n",
       "├─────────────────────────────────┼────────────────────────┼───────────────┤\n",
       "│ batch_normalization_4           │ (\u001b[38;5;45mNone\u001b[0m, \u001b[38;5;34m32\u001b[0m)             │           \u001b[38;5;34m128\u001b[0m │\n",
       "│ (\u001b[38;5;33mBatchNormalization\u001b[0m)            │                        │               │\n",
       "├─────────────────────────────────┼────────────────────────┼───────────────┤\n",
       "│ dropout_4 (\u001b[38;5;33mDropout\u001b[0m)             │ (\u001b[38;5;45mNone\u001b[0m, \u001b[38;5;34m32\u001b[0m)             │             \u001b[38;5;34m0\u001b[0m │\n",
       "├─────────────────────────────────┼────────────────────────┼───────────────┤\n",
       "│ dense_1 (\u001b[38;5;33mDense\u001b[0m)                 │ (\u001b[38;5;45mNone\u001b[0m, \u001b[38;5;34m10\u001b[0m)             │           \u001b[38;5;34m330\u001b[0m │\n",
       "└─────────────────────────────────┴────────────────────────┴───────────────┘\n"
      ]
     },
     "metadata": {},
     "output_type": "display_data"
    },
    {
     "data": {
      "text/html": [
       "<pre style=\"white-space:pre;overflow-x:auto;line-height:normal;font-family:Menlo,'DejaVu Sans Mono',consolas,'Courier New',monospace\"><span style=\"font-weight: bold\"> Total params: </span><span style=\"color: #00af00; text-decoration-color: #00af00\">3,066</span> (11.98 KB)\n",
       "</pre>\n"
      ],
      "text/plain": [
       "\u001b[1m Total params: \u001b[0m\u001b[38;5;34m3,066\u001b[0m (11.98 KB)\n"
      ]
     },
     "metadata": {},
     "output_type": "display_data"
    },
    {
     "data": {
      "text/html": [
       "<pre style=\"white-space:pre;overflow-x:auto;line-height:normal;font-family:Menlo,'DejaVu Sans Mono',consolas,'Courier New',monospace\"><span style=\"font-weight: bold\"> Trainable params: </span><span style=\"color: #00af00; text-decoration-color: #00af00\">2,906</span> (11.35 KB)\n",
       "</pre>\n"
      ],
      "text/plain": [
       "\u001b[1m Trainable params: \u001b[0m\u001b[38;5;34m2,906\u001b[0m (11.35 KB)\n"
      ]
     },
     "metadata": {},
     "output_type": "display_data"
    },
    {
     "data": {
      "text/html": [
       "<pre style=\"white-space:pre;overflow-x:auto;line-height:normal;font-family:Menlo,'DejaVu Sans Mono',consolas,'Courier New',monospace\"><span style=\"font-weight: bold\"> Non-trainable params: </span><span style=\"color: #00af00; text-decoration-color: #00af00\">160</span> (640.00 B)\n",
       "</pre>\n"
      ],
      "text/plain": [
       "\u001b[1m Non-trainable params: \u001b[0m\u001b[38;5;34m160\u001b[0m (640.00 B)\n"
      ]
     },
     "metadata": {},
     "output_type": "display_data"
    }
   ],
   "source": [
    "model = get_cnn_model(input_shape, num_classes)\n",
    "model.summary()"
   ]
  },
  {
   "cell_type": "code",
   "execution_count": 10,
   "id": "bc4d98b9",
   "metadata": {
    "execution": {
     "iopub.execute_input": "2024-12-14T06:38:07.994061Z",
     "iopub.status.busy": "2024-12-14T06:38:07.993367Z",
     "iopub.status.idle": "2024-12-14T06:39:09.378872Z",
     "shell.execute_reply": "2024-12-14T06:39:09.378091Z"
    },
    "papermill": {
     "duration": 61.393669,
     "end_time": "2024-12-14T06:39:09.380912",
     "exception": false,
     "start_time": "2024-12-14T06:38:07.987243",
     "status": "completed"
    },
    "tags": []
   },
   "outputs": [
    {
     "name": "stdout",
     "output_type": "stream",
     "text": [
      "Epoch 1/100\n"
     ]
    },
    {
     "name": "stderr",
     "output_type": "stream",
     "text": [
      "WARNING: All log messages before absl::InitializeLog() is called are written to STDERR\n",
      "I0000 00:00:1734158291.034548      74 service.cc:145] XLA service 0x7c60f0016690 initialized for platform CUDA (this does not guarantee that XLA will be used). Devices:\n",
      "I0000 00:00:1734158291.034631      74 service.cc:153]   StreamExecutor device (0): Tesla P100-PCIE-16GB, Compute Capability 6.0\n"
     ]
    },
    {
     "name": "stdout",
     "output_type": "stream",
     "text": [
      "\u001b[1m 71/158\u001b[0m \u001b[32m━━━━━━━━\u001b[0m\u001b[37m━━━━━━━━━━━━\u001b[0m \u001b[1m0s\u001b[0m 2ms/step - accuracy: 0.1180 - loss: 2.7897"
     ]
    },
    {
     "name": "stderr",
     "output_type": "stream",
     "text": [
      "I0000 00:00:1734158300.091079      74 device_compiler.h:188] Compiled cluster using XLA!  This line is logged at most once for the lifetime of the process.\n"
     ]
    },
    {
     "name": "stdout",
     "output_type": "stream",
     "text": [
      "\u001b[1m158/158\u001b[0m \u001b[32m━━━━━━━━━━━━━━━━━━━━\u001b[0m\u001b[37m\u001b[0m \u001b[1m21s\u001b[0m 59ms/step - accuracy: 0.1189 - loss: 2.7054 - val_accuracy: 0.1911 - val_loss: 2.2443\n",
      "Epoch 2/100\n",
      "\u001b[1m158/158\u001b[0m \u001b[32m━━━━━━━━━━━━━━━━━━━━\u001b[0m\u001b[37m\u001b[0m \u001b[1m0s\u001b[0m 2ms/step - accuracy: 0.1511 - loss: 2.3863 - val_accuracy: 0.2933 - val_loss: 2.0951\n",
      "Epoch 3/100\n",
      "\u001b[1m158/158\u001b[0m \u001b[32m━━━━━━━━━━━━━━━━━━━━\u001b[0m\u001b[37m\u001b[0m \u001b[1m0s\u001b[0m 2ms/step - accuracy: 0.2162 - loss: 2.2128 - val_accuracy: 0.4489 - val_loss: 1.8372\n",
      "Epoch 4/100\n",
      "\u001b[1m158/158\u001b[0m \u001b[32m━━━━━━━━━━━━━━━━━━━━\u001b[0m\u001b[37m\u001b[0m \u001b[1m0s\u001b[0m 2ms/step - accuracy: 0.2770 - loss: 2.0054 - val_accuracy: 0.5156 - val_loss: 1.6510\n",
      "Epoch 5/100\n",
      "\u001b[1m158/158\u001b[0m \u001b[32m━━━━━━━━━━━━━━━━━━━━\u001b[0m\u001b[37m\u001b[0m \u001b[1m0s\u001b[0m 2ms/step - accuracy: 0.3373 - loss: 1.8647 - val_accuracy: 0.5689 - val_loss: 1.4300\n",
      "Epoch 6/100\n",
      "\u001b[1m158/158\u001b[0m \u001b[32m━━━━━━━━━━━━━━━━━━━━\u001b[0m\u001b[37m\u001b[0m \u001b[1m0s\u001b[0m 2ms/step - accuracy: 0.3743 - loss: 1.7299 - val_accuracy: 0.5956 - val_loss: 1.3241\n",
      "Epoch 7/100\n",
      "\u001b[1m158/158\u001b[0m \u001b[32m━━━━━━━━━━━━━━━━━━━━\u001b[0m\u001b[37m\u001b[0m \u001b[1m0s\u001b[0m 2ms/step - accuracy: 0.4260 - loss: 1.6313 - val_accuracy: 0.6133 - val_loss: 1.2201\n",
      "Epoch 8/100\n",
      "\u001b[1m158/158\u001b[0m \u001b[32m━━━━━━━━━━━━━━━━━━━━\u001b[0m\u001b[37m\u001b[0m \u001b[1m0s\u001b[0m 2ms/step - accuracy: 0.4314 - loss: 1.5838 - val_accuracy: 0.6711 - val_loss: 1.1288\n",
      "Epoch 9/100\n",
      "\u001b[1m158/158\u001b[0m \u001b[32m━━━━━━━━━━━━━━━━━━━━\u001b[0m\u001b[37m\u001b[0m \u001b[1m0s\u001b[0m 3ms/step - accuracy: 0.4705 - loss: 1.4355 - val_accuracy: 0.6356 - val_loss: 1.0446\n",
      "Epoch 10/100\n",
      "\u001b[1m158/158\u001b[0m \u001b[32m━━━━━━━━━━━━━━━━━━━━\u001b[0m\u001b[37m\u001b[0m \u001b[1m0s\u001b[0m 2ms/step - accuracy: 0.4820 - loss: 1.4137 - val_accuracy: 0.7111 - val_loss: 0.9637\n",
      "Epoch 11/100\n",
      "\u001b[1m158/158\u001b[0m \u001b[32m━━━━━━━━━━━━━━━━━━━━\u001b[0m\u001b[37m\u001b[0m \u001b[1m0s\u001b[0m 2ms/step - accuracy: 0.5830 - loss: 1.2235 - val_accuracy: 0.7511 - val_loss: 0.8711\n",
      "Epoch 12/100\n",
      "\u001b[1m158/158\u001b[0m \u001b[32m━━━━━━━━━━━━━━━━━━━━\u001b[0m\u001b[37m\u001b[0m \u001b[1m0s\u001b[0m 2ms/step - accuracy: 0.5751 - loss: 1.2140 - val_accuracy: 0.7956 - val_loss: 0.7762\n",
      "Epoch 13/100\n",
      "\u001b[1m158/158\u001b[0m \u001b[32m━━━━━━━━━━━━━━━━━━━━\u001b[0m\u001b[37m\u001b[0m \u001b[1m0s\u001b[0m 2ms/step - accuracy: 0.5865 - loss: 1.2188 - val_accuracy: 0.7822 - val_loss: 0.7403\n",
      "Epoch 14/100\n",
      "\u001b[1m158/158\u001b[0m \u001b[32m━━━━━━━━━━━━━━━━━━━━\u001b[0m\u001b[37m\u001b[0m \u001b[1m0s\u001b[0m 2ms/step - accuracy: 0.6081 - loss: 1.0938 - val_accuracy: 0.8178 - val_loss: 0.6735\n",
      "Epoch 15/100\n",
      "\u001b[1m158/158\u001b[0m \u001b[32m━━━━━━━━━━━━━━━━━━━━\u001b[0m\u001b[37m\u001b[0m \u001b[1m0s\u001b[0m 2ms/step - accuracy: 0.6144 - loss: 1.1249 - val_accuracy: 0.7822 - val_loss: 0.6461\n",
      "Epoch 16/100\n",
      "\u001b[1m158/158\u001b[0m \u001b[32m━━━━━━━━━━━━━━━━━━━━\u001b[0m\u001b[37m\u001b[0m \u001b[1m0s\u001b[0m 2ms/step - accuracy: 0.6420 - loss: 1.0295 - val_accuracy: 0.8267 - val_loss: 0.6344\n",
      "Epoch 17/100\n",
      "\u001b[1m158/158\u001b[0m \u001b[32m━━━━━━━━━━━━━━━━━━━━\u001b[0m\u001b[37m\u001b[0m \u001b[1m0s\u001b[0m 2ms/step - accuracy: 0.6370 - loss: 1.0168 - val_accuracy: 0.8178 - val_loss: 0.6007\n",
      "Epoch 18/100\n",
      "\u001b[1m158/158\u001b[0m \u001b[32m━━━━━━━━━━━━━━━━━━━━\u001b[0m\u001b[37m\u001b[0m \u001b[1m0s\u001b[0m 2ms/step - accuracy: 0.6757 - loss: 0.9399 - val_accuracy: 0.8222 - val_loss: 0.5638\n",
      "Epoch 19/100\n",
      "\u001b[1m158/158\u001b[0m \u001b[32m━━━━━━━━━━━━━━━━━━━━\u001b[0m\u001b[37m\u001b[0m \u001b[1m0s\u001b[0m 2ms/step - accuracy: 0.6885 - loss: 0.8960 - val_accuracy: 0.8400 - val_loss: 0.5644\n",
      "Epoch 20/100\n",
      "\u001b[1m158/158\u001b[0m \u001b[32m━━━━━━━━━━━━━━━━━━━━\u001b[0m\u001b[37m\u001b[0m \u001b[1m0s\u001b[0m 2ms/step - accuracy: 0.6634 - loss: 0.9364 - val_accuracy: 0.8667 - val_loss: 0.5244\n",
      "Epoch 21/100\n",
      "\u001b[1m158/158\u001b[0m \u001b[32m━━━━━━━━━━━━━━━━━━━━\u001b[0m\u001b[37m\u001b[0m \u001b[1m0s\u001b[0m 3ms/step - accuracy: 0.6701 - loss: 0.9481 - val_accuracy: 0.8622 - val_loss: 0.5101\n",
      "Epoch 22/100\n",
      "\u001b[1m158/158\u001b[0m \u001b[32m━━━━━━━━━━━━━━━━━━━━\u001b[0m\u001b[37m\u001b[0m \u001b[1m0s\u001b[0m 2ms/step - accuracy: 0.7116 - loss: 0.8387 - val_accuracy: 0.8578 - val_loss: 0.5110\n",
      "Epoch 23/100\n",
      "\u001b[1m158/158\u001b[0m \u001b[32m━━━━━━━━━━━━━━━━━━━━\u001b[0m\u001b[37m\u001b[0m \u001b[1m0s\u001b[0m 2ms/step - accuracy: 0.6747 - loss: 0.9200 - val_accuracy: 0.8667 - val_loss: 0.4625\n",
      "Epoch 24/100\n",
      "\u001b[1m158/158\u001b[0m \u001b[32m━━━━━━━━━━━━━━━━━━━━\u001b[0m\u001b[37m\u001b[0m \u001b[1m0s\u001b[0m 2ms/step - accuracy: 0.7014 - loss: 0.8521 - val_accuracy: 0.8711 - val_loss: 0.4843\n",
      "Epoch 25/100\n",
      "\u001b[1m158/158\u001b[0m \u001b[32m━━━━━━━━━━━━━━━━━━━━\u001b[0m\u001b[37m\u001b[0m \u001b[1m0s\u001b[0m 2ms/step - accuracy: 0.7099 - loss: 0.8791 - val_accuracy: 0.8667 - val_loss: 0.4541\n",
      "Epoch 26/100\n",
      "\u001b[1m158/158\u001b[0m \u001b[32m━━━━━━━━━━━━━━━━━━━━\u001b[0m\u001b[37m\u001b[0m \u001b[1m0s\u001b[0m 2ms/step - accuracy: 0.7463 - loss: 0.7814 - val_accuracy: 0.8444 - val_loss: 0.4572\n",
      "Epoch 27/100\n",
      "\u001b[1m158/158\u001b[0m \u001b[32m━━━━━━━━━━━━━━━━━━━━\u001b[0m\u001b[37m\u001b[0m \u001b[1m0s\u001b[0m 2ms/step - accuracy: 0.7244 - loss: 0.8238 - val_accuracy: 0.8756 - val_loss: 0.4448\n",
      "Epoch 28/100\n",
      "\u001b[1m158/158\u001b[0m \u001b[32m━━━━━━━━━━━━━━━━━━━━\u001b[0m\u001b[37m\u001b[0m \u001b[1m0s\u001b[0m 2ms/step - accuracy: 0.6985 - loss: 0.8477 - val_accuracy: 0.8756 - val_loss: 0.4145\n",
      "Epoch 29/100\n",
      "\u001b[1m158/158\u001b[0m \u001b[32m━━━━━━━━━━━━━━━━━━━━\u001b[0m\u001b[37m\u001b[0m \u001b[1m0s\u001b[0m 2ms/step - accuracy: 0.7386 - loss: 0.7704 - val_accuracy: 0.8667 - val_loss: 0.4040\n",
      "Epoch 30/100\n",
      "\u001b[1m158/158\u001b[0m \u001b[32m━━━━━━━━━━━━━━━━━━━━\u001b[0m\u001b[37m\u001b[0m \u001b[1m0s\u001b[0m 2ms/step - accuracy: 0.7435 - loss: 0.7568 - val_accuracy: 0.8844 - val_loss: 0.4135\n",
      "Epoch 31/100\n",
      "\u001b[1m158/158\u001b[0m \u001b[32m━━━━━━━━━━━━━━━━━━━━\u001b[0m\u001b[37m\u001b[0m \u001b[1m0s\u001b[0m 2ms/step - accuracy: 0.7531 - loss: 0.7488 - val_accuracy: 0.8756 - val_loss: 0.3908\n",
      "Epoch 32/100\n",
      "\u001b[1m158/158\u001b[0m \u001b[32m━━━━━━━━━━━━━━━━━━━━\u001b[0m\u001b[37m\u001b[0m \u001b[1m0s\u001b[0m 2ms/step - accuracy: 0.7384 - loss: 0.7483 - val_accuracy: 0.8756 - val_loss: 0.3951\n",
      "Epoch 33/100\n",
      "\u001b[1m158/158\u001b[0m \u001b[32m━━━━━━━━━━━━━━━━━━━━\u001b[0m\u001b[37m\u001b[0m \u001b[1m0s\u001b[0m 2ms/step - accuracy: 0.7181 - loss: 0.7985 - val_accuracy: 0.8711 - val_loss: 0.3858\n",
      "Epoch 34/100\n",
      "\u001b[1m158/158\u001b[0m \u001b[32m━━━━━━━━━━━━━━━━━━━━\u001b[0m\u001b[37m\u001b[0m \u001b[1m0s\u001b[0m 2ms/step - accuracy: 0.7578 - loss: 0.7254 - val_accuracy: 0.8756 - val_loss: 0.3663\n",
      "Epoch 35/100\n",
      "\u001b[1m158/158\u001b[0m \u001b[32m━━━━━━━━━━━━━━━━━━━━\u001b[0m\u001b[37m\u001b[0m \u001b[1m0s\u001b[0m 2ms/step - accuracy: 0.7465 - loss: 0.7132 - val_accuracy: 0.8756 - val_loss: 0.3623\n",
      "Epoch 36/100\n",
      "\u001b[1m158/158\u001b[0m \u001b[32m━━━━━━━━━━━━━━━━━━━━\u001b[0m\u001b[37m\u001b[0m \u001b[1m0s\u001b[0m 3ms/step - accuracy: 0.7408 - loss: 0.7174 - val_accuracy: 0.8933 - val_loss: 0.3798\n",
      "Epoch 37/100\n",
      "\u001b[1m158/158\u001b[0m \u001b[32m━━━━━━━━━━━━━━━━━━━━\u001b[0m\u001b[37m\u001b[0m \u001b[1m0s\u001b[0m 2ms/step - accuracy: 0.7557 - loss: 0.7053 - val_accuracy: 0.8933 - val_loss: 0.3723\n",
      "Epoch 38/100\n",
      "\u001b[1m158/158\u001b[0m \u001b[32m━━━━━━━━━━━━━━━━━━━━\u001b[0m\u001b[37m\u001b[0m \u001b[1m0s\u001b[0m 2ms/step - accuracy: 0.7434 - loss: 0.7476 - val_accuracy: 0.8933 - val_loss: 0.3807\n",
      "Epoch 39/100\n",
      "\u001b[1m158/158\u001b[0m \u001b[32m━━━━━━━━━━━━━━━━━━━━\u001b[0m\u001b[37m\u001b[0m \u001b[1m0s\u001b[0m 2ms/step - accuracy: 0.7829 - loss: 0.6846 - val_accuracy: 0.8933 - val_loss: 0.3425\n",
      "Epoch 40/100\n",
      "\u001b[1m158/158\u001b[0m \u001b[32m━━━━━━━━━━━━━━━━━━━━\u001b[0m\u001b[37m\u001b[0m \u001b[1m0s\u001b[0m 2ms/step - accuracy: 0.7669 - loss: 0.7157 - val_accuracy: 0.8844 - val_loss: 0.3392\n",
      "Epoch 41/100\n",
      "\u001b[1m158/158\u001b[0m \u001b[32m━━━━━━━━━━━━━━━━━━━━\u001b[0m\u001b[37m\u001b[0m \u001b[1m0s\u001b[0m 2ms/step - accuracy: 0.7639 - loss: 0.6473 - val_accuracy: 0.9022 - val_loss: 0.3181\n",
      "Epoch 42/100\n",
      "\u001b[1m158/158\u001b[0m \u001b[32m━━━━━━━━━━━━━━━━━━━━\u001b[0m\u001b[37m\u001b[0m \u001b[1m0s\u001b[0m 2ms/step - accuracy: 0.7757 - loss: 0.6448 - val_accuracy: 0.9022 - val_loss: 0.3148\n",
      "Epoch 43/100\n",
      "\u001b[1m158/158\u001b[0m \u001b[32m━━━━━━━━━━━━━━━━━━━━\u001b[0m\u001b[37m\u001b[0m \u001b[1m0s\u001b[0m 2ms/step - accuracy: 0.7606 - loss: 0.6970 - val_accuracy: 0.9022 - val_loss: 0.3120\n",
      "Epoch 44/100\n",
      "\u001b[1m158/158\u001b[0m \u001b[32m━━━━━━━━━━━━━━━━━━━━\u001b[0m\u001b[37m\u001b[0m \u001b[1m0s\u001b[0m 2ms/step - accuracy: 0.7773 - loss: 0.6371 - val_accuracy: 0.8844 - val_loss: 0.3112\n",
      "Epoch 45/100\n",
      "\u001b[1m158/158\u001b[0m \u001b[32m━━━━━━━━━━━━━━━━━━━━\u001b[0m\u001b[37m\u001b[0m \u001b[1m0s\u001b[0m 2ms/step - accuracy: 0.7643 - loss: 0.6537 - val_accuracy: 0.8844 - val_loss: 0.3128\n",
      "Epoch 46/100\n",
      "\u001b[1m158/158\u001b[0m \u001b[32m━━━━━━━━━━━━━━━━━━━━\u001b[0m\u001b[37m\u001b[0m \u001b[1m0s\u001b[0m 3ms/step - accuracy: 0.7612 - loss: 0.6588 - val_accuracy: 0.9244 - val_loss: 0.3122\n",
      "Epoch 47/100\n",
      "\u001b[1m158/158\u001b[0m \u001b[32m━━━━━━━━━━━━━━━━━━━━\u001b[0m\u001b[37m\u001b[0m \u001b[1m0s\u001b[0m 2ms/step - accuracy: 0.7834 - loss: 0.6013 - val_accuracy: 0.9022 - val_loss: 0.3078\n",
      "Epoch 48/100\n",
      "\u001b[1m158/158\u001b[0m \u001b[32m━━━━━━━━━━━━━━━━━━━━\u001b[0m\u001b[37m\u001b[0m \u001b[1m0s\u001b[0m 2ms/step - accuracy: 0.8002 - loss: 0.6088 - val_accuracy: 0.8978 - val_loss: 0.2883\n",
      "Epoch 49/100\n",
      "\u001b[1m158/158\u001b[0m \u001b[32m━━━━━━━━━━━━━━━━━━━━\u001b[0m\u001b[37m\u001b[0m \u001b[1m0s\u001b[0m 2ms/step - accuracy: 0.7776 - loss: 0.6362 - val_accuracy: 0.9111 - val_loss: 0.2952\n",
      "Epoch 50/100\n",
      "\u001b[1m158/158\u001b[0m \u001b[32m━━━━━━━━━━━━━━━━━━━━\u001b[0m\u001b[37m\u001b[0m \u001b[1m0s\u001b[0m 2ms/step - accuracy: 0.7985 - loss: 0.6130 - val_accuracy: 0.9067 - val_loss: 0.2817\n",
      "Epoch 51/100\n",
      "\u001b[1m158/158\u001b[0m \u001b[32m━━━━━━━━━━━━━━━━━━━━\u001b[0m\u001b[37m\u001b[0m \u001b[1m0s\u001b[0m 2ms/step - accuracy: 0.8222 - loss: 0.5555 - val_accuracy: 0.9067 - val_loss: 0.2777\n",
      "Epoch 52/100\n",
      "\u001b[1m158/158\u001b[0m \u001b[32m━━━━━━━━━━━━━━━━━━━━\u001b[0m\u001b[37m\u001b[0m \u001b[1m0s\u001b[0m 2ms/step - accuracy: 0.7765 - loss: 0.6380 - val_accuracy: 0.9067 - val_loss: 0.2896\n",
      "Epoch 53/100\n",
      "\u001b[1m158/158\u001b[0m \u001b[32m━━━━━━━━━━━━━━━━━━━━\u001b[0m\u001b[37m\u001b[0m \u001b[1m0s\u001b[0m 2ms/step - accuracy: 0.8215 - loss: 0.6001 - val_accuracy: 0.9289 - val_loss: 0.2958\n",
      "Epoch 54/100\n",
      "\u001b[1m158/158\u001b[0m \u001b[32m━━━━━━━━━━━━━━━━━━━━\u001b[0m\u001b[37m\u001b[0m \u001b[1m0s\u001b[0m 2ms/step - accuracy: 0.8105 - loss: 0.5826 - val_accuracy: 0.9244 - val_loss: 0.2762\n",
      "Epoch 55/100\n",
      "\u001b[1m158/158\u001b[0m \u001b[32m━━━━━━━━━━━━━━━━━━━━\u001b[0m\u001b[37m\u001b[0m \u001b[1m0s\u001b[0m 2ms/step - accuracy: 0.7871 - loss: 0.6239 - val_accuracy: 0.9200 - val_loss: 0.2722\n",
      "Epoch 56/100\n",
      "\u001b[1m158/158\u001b[0m \u001b[32m━━━━━━━━━━━━━━━━━━━━\u001b[0m\u001b[37m\u001b[0m \u001b[1m0s\u001b[0m 2ms/step - accuracy: 0.7983 - loss: 0.6059 - val_accuracy: 0.9289 - val_loss: 0.2621\n",
      "Epoch 57/100\n",
      "\u001b[1m158/158\u001b[0m \u001b[32m━━━━━━━━━━━━━━━━━━━━\u001b[0m\u001b[37m\u001b[0m \u001b[1m0s\u001b[0m 2ms/step - accuracy: 0.8052 - loss: 0.5793 - val_accuracy: 0.9244 - val_loss: 0.2662\n",
      "Epoch 58/100\n",
      "\u001b[1m158/158\u001b[0m \u001b[32m━━━━━━━━━━━━━━━━━━━━\u001b[0m\u001b[37m\u001b[0m \u001b[1m0s\u001b[0m 2ms/step - accuracy: 0.7936 - loss: 0.6136 - val_accuracy: 0.9289 - val_loss: 0.2666\n",
      "Epoch 59/100\n",
      "\u001b[1m158/158\u001b[0m \u001b[32m━━━━━━━━━━━━━━━━━━━━\u001b[0m\u001b[37m\u001b[0m \u001b[1m0s\u001b[0m 2ms/step - accuracy: 0.8211 - loss: 0.5312 - val_accuracy: 0.9156 - val_loss: 0.2808\n",
      "Epoch 60/100\n",
      "\u001b[1m158/158\u001b[0m \u001b[32m━━━━━━━━━━━━━━━━━━━━\u001b[0m\u001b[37m\u001b[0m \u001b[1m0s\u001b[0m 2ms/step - accuracy: 0.8143 - loss: 0.5851 - val_accuracy: 0.9333 - val_loss: 0.2469\n",
      "Epoch 61/100\n",
      "\u001b[1m158/158\u001b[0m \u001b[32m━━━━━━━━━━━━━━━━━━━━\u001b[0m\u001b[37m\u001b[0m \u001b[1m0s\u001b[0m 2ms/step - accuracy: 0.8184 - loss: 0.5466 - val_accuracy: 0.9333 - val_loss: 0.2631\n",
      "Epoch 62/100\n",
      "\u001b[1m158/158\u001b[0m \u001b[32m━━━━━━━━━━━━━━━━━━━━\u001b[0m\u001b[37m\u001b[0m \u001b[1m0s\u001b[0m 2ms/step - accuracy: 0.8208 - loss: 0.5380 - val_accuracy: 0.9111 - val_loss: 0.2684\n",
      "Epoch 63/100\n",
      "\u001b[1m158/158\u001b[0m \u001b[32m━━━━━━━━━━━━━━━━━━━━\u001b[0m\u001b[37m\u001b[0m \u001b[1m0s\u001b[0m 2ms/step - accuracy: 0.8394 - loss: 0.4875 - val_accuracy: 0.9111 - val_loss: 0.2723\n",
      "Epoch 64/100\n",
      "\u001b[1m158/158\u001b[0m \u001b[32m━━━━━━━━━━━━━━━━━━━━\u001b[0m\u001b[37m\u001b[0m \u001b[1m0s\u001b[0m 2ms/step - accuracy: 0.8246 - loss: 0.5318 - val_accuracy: 0.9244 - val_loss: 0.2614\n",
      "Epoch 65/100\n",
      "\u001b[1m158/158\u001b[0m \u001b[32m━━━━━━━━━━━━━━━━━━━━\u001b[0m\u001b[37m\u001b[0m \u001b[1m0s\u001b[0m 2ms/step - accuracy: 0.8130 - loss: 0.5679 - val_accuracy: 0.9289 - val_loss: 0.2707\n",
      "Epoch 66/100\n",
      "\u001b[1m158/158\u001b[0m \u001b[32m━━━━━━━━━━━━━━━━━━━━\u001b[0m\u001b[37m\u001b[0m \u001b[1m0s\u001b[0m 2ms/step - accuracy: 0.8159 - loss: 0.5335 - val_accuracy: 0.9422 - val_loss: 0.2471\n",
      "Epoch 67/100\n",
      "\u001b[1m158/158\u001b[0m \u001b[32m━━━━━━━━━━━━━━━━━━━━\u001b[0m\u001b[37m\u001b[0m \u001b[1m0s\u001b[0m 2ms/step - accuracy: 0.8074 - loss: 0.5778 - val_accuracy: 0.9333 - val_loss: 0.2398\n",
      "Epoch 68/100\n",
      "\u001b[1m158/158\u001b[0m \u001b[32m━━━━━━━━━━━━━━━━━━━━\u001b[0m\u001b[37m\u001b[0m \u001b[1m0s\u001b[0m 3ms/step - accuracy: 0.7981 - loss: 0.5800 - val_accuracy: 0.9244 - val_loss: 0.2702\n",
      "Epoch 69/100\n",
      "\u001b[1m158/158\u001b[0m \u001b[32m━━━━━━━━━━━━━━━━━━━━\u001b[0m\u001b[37m\u001b[0m \u001b[1m0s\u001b[0m 3ms/step - accuracy: 0.8192 - loss: 0.5230 - val_accuracy: 0.9111 - val_loss: 0.2830\n",
      "Epoch 70/100\n",
      "\u001b[1m158/158\u001b[0m \u001b[32m━━━━━━━━━━━━━━━━━━━━\u001b[0m\u001b[37m\u001b[0m \u001b[1m0s\u001b[0m 3ms/step - accuracy: 0.8172 - loss: 0.5375 - val_accuracy: 0.9111 - val_loss: 0.2516\n",
      "Epoch 71/100\n",
      "\u001b[1m158/158\u001b[0m \u001b[32m━━━━━━━━━━━━━━━━━━━━\u001b[0m\u001b[37m\u001b[0m \u001b[1m0s\u001b[0m 3ms/step - accuracy: 0.8108 - loss: 0.5531 - val_accuracy: 0.9067 - val_loss: 0.2651\n",
      "Epoch 72/100\n",
      "\u001b[1m158/158\u001b[0m \u001b[32m━━━━━━━━━━━━━━━━━━━━\u001b[0m\u001b[37m\u001b[0m \u001b[1m0s\u001b[0m 2ms/step - accuracy: 0.8227 - loss: 0.5491 - val_accuracy: 0.9022 - val_loss: 0.2841\n",
      "Epoch 73/100\n",
      "\u001b[1m158/158\u001b[0m \u001b[32m━━━━━━━━━━━━━━━━━━━━\u001b[0m\u001b[37m\u001b[0m \u001b[1m0s\u001b[0m 2ms/step - accuracy: 0.8333 - loss: 0.5163 - val_accuracy: 0.9156 - val_loss: 0.2629\n",
      "Epoch 74/100\n",
      "\u001b[1m158/158\u001b[0m \u001b[32m━━━━━━━━━━━━━━━━━━━━\u001b[0m\u001b[37m\u001b[0m \u001b[1m0s\u001b[0m 2ms/step - accuracy: 0.8259 - loss: 0.5111 - val_accuracy: 0.9289 - val_loss: 0.2647\n",
      "Epoch 75/100\n",
      "\u001b[1m158/158\u001b[0m \u001b[32m━━━━━━━━━━━━━━━━━━━━\u001b[0m\u001b[37m\u001b[0m \u001b[1m0s\u001b[0m 2ms/step - accuracy: 0.8194 - loss: 0.5241 - val_accuracy: 0.9378 - val_loss: 0.2418\n",
      "Epoch 76/100\n",
      "\u001b[1m158/158\u001b[0m \u001b[32m━━━━━━━━━━━━━━━━━━━━\u001b[0m\u001b[37m\u001b[0m \u001b[1m0s\u001b[0m 2ms/step - accuracy: 0.8233 - loss: 0.5483 - val_accuracy: 0.9111 - val_loss: 0.2724\n",
      "Epoch 77/100\n",
      "\u001b[1m158/158\u001b[0m \u001b[32m━━━━━━━━━━━━━━━━━━━━\u001b[0m\u001b[37m\u001b[0m \u001b[1m0s\u001b[0m 2ms/step - accuracy: 0.8262 - loss: 0.5465 - val_accuracy: 0.9156 - val_loss: 0.2521\n",
      "Epoch 78/100\n",
      "\u001b[1m158/158\u001b[0m \u001b[32m━━━━━━━━━━━━━━━━━━━━\u001b[0m\u001b[37m\u001b[0m \u001b[1m0s\u001b[0m 2ms/step - accuracy: 0.8214 - loss: 0.5145 - val_accuracy: 0.9200 - val_loss: 0.2745\n",
      "Epoch 79/100\n",
      "\u001b[1m158/158\u001b[0m \u001b[32m━━━━━━━━━━━━━━━━━━━━\u001b[0m\u001b[37m\u001b[0m \u001b[1m0s\u001b[0m 2ms/step - accuracy: 0.8440 - loss: 0.4754 - val_accuracy: 0.9244 - val_loss: 0.2539\n",
      "Epoch 80/100\n",
      "\u001b[1m158/158\u001b[0m \u001b[32m━━━━━━━━━━━━━━━━━━━━\u001b[0m\u001b[37m\u001b[0m \u001b[1m0s\u001b[0m 2ms/step - accuracy: 0.8091 - loss: 0.5528 - val_accuracy: 0.9289 - val_loss: 0.2530\n",
      "Epoch 81/100\n",
      "\u001b[1m158/158\u001b[0m \u001b[32m━━━━━━━━━━━━━━━━━━━━\u001b[0m\u001b[37m\u001b[0m \u001b[1m0s\u001b[0m 2ms/step - accuracy: 0.8248 - loss: 0.5195 - val_accuracy: 0.9200 - val_loss: 0.2500\n",
      "Epoch 82/100\n",
      "\u001b[1m158/158\u001b[0m \u001b[32m━━━━━━━━━━━━━━━━━━━━\u001b[0m\u001b[37m\u001b[0m \u001b[1m0s\u001b[0m 2ms/step - accuracy: 0.8339 - loss: 0.5253 - val_accuracy: 0.9289 - val_loss: 0.2404\n",
      "Epoch 83/100\n",
      "\u001b[1m158/158\u001b[0m \u001b[32m━━━━━━━━━━━━━━━━━━━━\u001b[0m\u001b[37m\u001b[0m \u001b[1m0s\u001b[0m 2ms/step - accuracy: 0.8090 - loss: 0.5522 - val_accuracy: 0.9289 - val_loss: 0.2468\n",
      "Epoch 84/100\n",
      "\u001b[1m158/158\u001b[0m \u001b[32m━━━━━━━━━━━━━━━━━━━━\u001b[0m\u001b[37m\u001b[0m \u001b[1m0s\u001b[0m 2ms/step - accuracy: 0.8231 - loss: 0.5492 - val_accuracy: 0.9156 - val_loss: 0.2581\n",
      "Epoch 85/100\n",
      "\u001b[1m158/158\u001b[0m \u001b[32m━━━━━━━━━━━━━━━━━━━━\u001b[0m\u001b[37m\u001b[0m \u001b[1m0s\u001b[0m 3ms/step - accuracy: 0.8186 - loss: 0.5002 - val_accuracy: 0.9111 - val_loss: 0.2530\n",
      "Epoch 86/100\n",
      "\u001b[1m158/158\u001b[0m \u001b[32m━━━━━━━━━━━━━━━━━━━━\u001b[0m\u001b[37m\u001b[0m \u001b[1m0s\u001b[0m 2ms/step - accuracy: 0.8473 - loss: 0.4680 - val_accuracy: 0.9333 - val_loss: 0.2531\n",
      "Epoch 87/100\n",
      "\u001b[1m158/158\u001b[0m \u001b[32m━━━━━━━━━━━━━━━━━━━━\u001b[0m\u001b[37m\u001b[0m \u001b[1m0s\u001b[0m 2ms/step - accuracy: 0.8253 - loss: 0.5148 - val_accuracy: 0.9111 - val_loss: 0.2554\n",
      "Epoch 88/100\n",
      "\u001b[1m158/158\u001b[0m \u001b[32m━━━━━━━━━━━━━━━━━━━━\u001b[0m\u001b[37m\u001b[0m \u001b[1m0s\u001b[0m 2ms/step - accuracy: 0.8221 - loss: 0.4989 - val_accuracy: 0.9200 - val_loss: 0.2607\n",
      "Epoch 89/100\n",
      "\u001b[1m158/158\u001b[0m \u001b[32m━━━━━━━━━━━━━━━━━━━━\u001b[0m\u001b[37m\u001b[0m \u001b[1m0s\u001b[0m 2ms/step - accuracy: 0.8331 - loss: 0.4704 - val_accuracy: 0.9156 - val_loss: 0.2496\n",
      "Epoch 90/100\n",
      "\u001b[1m158/158\u001b[0m \u001b[32m━━━━━━━━━━━━━━━━━━━━\u001b[0m\u001b[37m\u001b[0m \u001b[1m0s\u001b[0m 2ms/step - accuracy: 0.8353 - loss: 0.4989 - val_accuracy: 0.9333 - val_loss: 0.2394\n",
      "Epoch 91/100\n",
      "\u001b[1m158/158\u001b[0m \u001b[32m━━━━━━━━━━━━━━━━━━━━\u001b[0m\u001b[37m\u001b[0m \u001b[1m0s\u001b[0m 2ms/step - accuracy: 0.8446 - loss: 0.4453 - val_accuracy: 0.9378 - val_loss: 0.2313\n",
      "Epoch 92/100\n",
      "\u001b[1m158/158\u001b[0m \u001b[32m━━━━━━━━━━━━━━━━━━━━\u001b[0m\u001b[37m\u001b[0m \u001b[1m0s\u001b[0m 2ms/step - accuracy: 0.8427 - loss: 0.4727 - val_accuracy: 0.9156 - val_loss: 0.2453\n",
      "Epoch 93/100\n",
      "\u001b[1m158/158\u001b[0m \u001b[32m━━━━━━━━━━━━━━━━━━━━\u001b[0m\u001b[37m\u001b[0m \u001b[1m0s\u001b[0m 2ms/step - accuracy: 0.8234 - loss: 0.5574 - val_accuracy: 0.9289 - val_loss: 0.2360\n",
      "Epoch 94/100\n",
      "\u001b[1m158/158\u001b[0m \u001b[32m━━━━━━━━━━━━━━━━━━━━\u001b[0m\u001b[37m\u001b[0m \u001b[1m0s\u001b[0m 2ms/step - accuracy: 0.8342 - loss: 0.4746 - val_accuracy: 0.9244 - val_loss: 0.2458\n",
      "Epoch 95/100\n",
      "\u001b[1m158/158\u001b[0m \u001b[32m━━━━━━━━━━━━━━━━━━━━\u001b[0m\u001b[37m\u001b[0m \u001b[1m0s\u001b[0m 3ms/step - accuracy: 0.8317 - loss: 0.4759 - val_accuracy: 0.9289 - val_loss: 0.2413\n",
      "Epoch 96/100\n",
      "\u001b[1m158/158\u001b[0m \u001b[32m━━━━━━━━━━━━━━━━━━━━\u001b[0m\u001b[37m\u001b[0m \u001b[1m0s\u001b[0m 2ms/step - accuracy: 0.8513 - loss: 0.4490 - val_accuracy: 0.9244 - val_loss: 0.2214\n",
      "Epoch 97/100\n",
      "\u001b[1m158/158\u001b[0m \u001b[32m━━━━━━━━━━━━━━━━━━━━\u001b[0m\u001b[37m\u001b[0m \u001b[1m0s\u001b[0m 2ms/step - accuracy: 0.8595 - loss: 0.4717 - val_accuracy: 0.9378 - val_loss: 0.2321\n",
      "Epoch 98/100\n",
      "\u001b[1m158/158\u001b[0m \u001b[32m━━━━━━━━━━━━━━━━━━━━\u001b[0m\u001b[37m\u001b[0m \u001b[1m0s\u001b[0m 2ms/step - accuracy: 0.8357 - loss: 0.4888 - val_accuracy: 0.9156 - val_loss: 0.2369\n",
      "Epoch 99/100\n",
      "\u001b[1m158/158\u001b[0m \u001b[32m━━━━━━━━━━━━━━━━━━━━\u001b[0m\u001b[37m\u001b[0m \u001b[1m0s\u001b[0m 2ms/step - accuracy: 0.8406 - loss: 0.4563 - val_accuracy: 0.9333 - val_loss: 0.2146\n",
      "Epoch 100/100\n",
      "\u001b[1m158/158\u001b[0m \u001b[32m━━━━━━━━━━━━━━━━━━━━\u001b[0m\u001b[37m\u001b[0m \u001b[1m0s\u001b[0m 2ms/step - accuracy: 0.8267 - loss: 0.5212 - val_accuracy: 0.9378 - val_loss: 0.2213\n"
     ]
    }
   ],
   "source": [
    "# Train the model\n",
    "history = model.fit(X_train, y_train, batch_size=16, epochs=100, verbose=1, validation_data=(X_val_retained, y_val_retained))\n",
    "\n",
    "# Save the initial model after training\n",
    "model.save('initial_full_dataset_model.h5')"
   ]
  },
  {
   "cell_type": "code",
   "execution_count": 11,
   "id": "c40ca4ec",
   "metadata": {
    "execution": {
     "iopub.execute_input": "2024-12-14T06:39:09.474440Z",
     "iopub.status.busy": "2024-12-14T06:39:09.474115Z",
     "iopub.status.idle": "2024-12-14T06:39:09.832244Z",
     "shell.execute_reply": "2024-12-14T06:39:09.831350Z"
    },
    "papermill": {
     "duration": 0.407249,
     "end_time": "2024-12-14T06:39:09.834105",
     "exception": false,
     "start_time": "2024-12-14T06:39:09.426856",
     "status": "completed"
    },
    "tags": []
   },
   "outputs": [
    {
     "data": {
      "image/png": "[encoded data removed]",
      "text/plain": [
       "<Figure size 1200x400 with 2 Axes>"
      ]
     },
     "metadata": {},
     "output_type": "display_data"
    }
   ],
   "source": [
    "# Plot the training and validation loss and accuracy\n",
    "plt.figure(figsize=(12, 4))\n",
    "\n",
    "# Plot accuracy\n",
    "plt.subplot(1,2,1)\n",
    "plt.plot(history.history['accuracy'], label='Train')\n",
    "plt.plot(history.history['val_accuracy'], label='Validation')\n",
    "plt.title('Model Accuracy')\n",
    "plt.xlabel('Epoch')\n",
    "plt.ylabel('Accuracy')\n",
    "plt.legend()\n",
    "\n",
    "# Plot loss\n",
    "plt.subplot(1,2,2)\n",
    "plt.plot(history.history['loss'], label='Train')\n",
    "plt.plot(history.history['val_loss'], label='Validation')\n",
    "plt.title('Model Loss')\n",
    "plt.xlabel('Epoch')\n",
    "plt.ylabel('Loss')\n",
    "plt.legend()\n",
    "\n",
    "plt.show()"
   ]
  },
  {
   "cell_type": "markdown",
   "id": "e9b89b4b",
   "metadata": {
    "papermill": {
     "duration": 0.046466,
     "end_time": "2024-12-14T06:39:09.927243",
     "exception": false,
     "start_time": "2024-12-14T06:39:09.880777",
     "status": "completed"
    },
    "tags": []
   },
   "source": [
    "### Test Model"
   ]
  },
  {
   "cell_type": "code",
   "execution_count": 12,
   "id": "c08b3075",
   "metadata": {
    "execution": {
     "iopub.execute_input": "2024-12-14T06:39:10.022150Z",
     "iopub.status.busy": "2024-12-14T06:39:10.021336Z",
     "iopub.status.idle": "2024-12-14T06:39:10.025306Z",
     "shell.execute_reply": "2024-12-14T06:39:10.024525Z"
    },
    "papermill": {
     "duration": 0.053224,
     "end_time": "2024-12-14T06:39:10.026979",
     "exception": false,
     "start_time": "2024-12-14T06:39:09.973755",
     "status": "completed"
    },
    "tags": []
   },
   "outputs": [],
   "source": [
    "# # Evaluate the model on the test data\n",
    "# test_loss, test_accuracy = model.evaluate(X_test, y_test, verbose=0)\n",
    "# print(\"Test loss:\", test_loss)\n",
    "# print(\"Test accuracy:\", test_accuracy)\n",
    "\n",
    "# # Save initial model evaluation results for comparison\n",
    "# with open(\"initial_model_results.txt\", \"w\") as f:\n",
    "#     f.write(f\"Test loss: {test_loss}\\n\")\n",
    "#     f.write(f\"Test accuracy: {test_accuracy}\\n\")"
   ]
  },
  {
   "cell_type": "code",
   "execution_count": 13,
   "id": "f0bca5da",
   "metadata": {
    "execution": {
     "iopub.execute_input": "2024-12-14T06:39:10.121069Z",
     "iopub.status.busy": "2024-12-14T06:39:10.120391Z",
     "iopub.status.idle": "2024-12-14T06:39:10.125921Z",
     "shell.execute_reply": "2024-12-14T06:39:10.124808Z"
    },
    "papermill": {
     "duration": 0.054492,
     "end_time": "2024-12-14T06:39:10.127655",
     "exception": false,
     "start_time": "2024-12-14T06:39:10.073163",
     "status": "completed"
    },
    "tags": []
   },
   "outputs": [],
   "source": [
    "# Make predictions on the test data\n",
    "def check_performance(x_dataset, y_label, model_to_check, model_name, dataset_name):\n",
    "    y_dataset_pred = model_to_check.predict(x_dataset)\n",
    "    y_dataset_pred_int = np.argmax(y_dataset_pred, axis=1)\n",
    "    \n",
    "    y_label_int = np.argmax(y_label, axis=1)\n",
    "    \n",
    "    assert y_label_int.shape == y_dataset_pred_int.shape\n",
    "    \n",
    "    print(f\"{model_name} performance on {dataset_name}:\")\n",
    "    print(f1_score(y_label_int, y_dataset_pred_int, average='macro'))\n",
    "    # print(classification_report(y_label_int, y_dataset_pred_int))"
   ]
  },
  {
   "cell_type": "markdown",
   "id": "a1b92e50",
   "metadata": {
    "papermill": {
     "duration": 0.046362,
     "end_time": "2024-12-14T06:39:10.219857",
     "exception": false,
     "start_time": "2024-12-14T06:39:10.173495",
     "status": "completed"
    },
    "tags": []
   },
   "source": [
    "# Train the Golden Standard Model"
   ]
  },
  {
   "cell_type": "code",
   "execution_count": 14,
   "id": "becc09ce",
   "metadata": {
    "execution": {
     "iopub.execute_input": "2024-12-14T06:39:10.353663Z",
     "iopub.status.busy": "2024-12-14T06:39:10.353277Z",
     "iopub.status.idle": "2024-12-14T06:39:10.559131Z",
     "shell.execute_reply": "2024-12-14T06:39:10.558386Z"
    },
    "papermill": {
     "duration": 0.295746,
     "end_time": "2024-12-14T06:39:10.561121",
     "exception": false,
     "start_time": "2024-12-14T06:39:10.265375",
     "status": "completed"
    },
    "tags": []
   },
   "outputs": [],
   "source": [
    "# Create and compile the gold standard model\n",
    "gold_standard_model = get_cnn_model(input_shape, num_classes)\n",
    "gold_standard_model.compile(optimizer='adam', loss='categorical_crossentropy', metrics=['accuracy'])"
   ]
  },
  {
   "cell_type": "code",
   "execution_count": 15,
   "id": "9f2a30f9",
   "metadata": {
    "execution": {
     "iopub.execute_input": "2024-12-14T06:39:10.656690Z",
     "iopub.status.busy": "2024-12-14T06:39:10.655935Z",
     "iopub.status.idle": "2024-12-14T06:40:09.266164Z",
     "shell.execute_reply": "2024-12-14T06:40:09.265448Z"
    },
    "papermill": {
     "duration": 58.659626,
     "end_time": "2024-12-14T06:40:09.268128",
     "exception": false,
     "start_time": "2024-12-14T06:39:10.608502",
     "status": "completed"
    },
    "tags": []
   },
   "outputs": [
    {
     "name": "stdout",
     "output_type": "stream",
     "text": [
      "Epoch 1/120\n",
      "\u001b[1m127/127\u001b[0m \u001b[32m━━━━━━━━━━━━━━━━━━━━\u001b[0m\u001b[37m\u001b[0m \u001b[1m19s\u001b[0m 67ms/step - accuracy: 0.0867 - loss: 2.8640 - val_accuracy: 0.2044 - val_loss: 2.2294\n",
      "Epoch 2/120\n",
      "\u001b[1m127/127\u001b[0m \u001b[32m━━━━━━━━━━━━━━━━━━━━\u001b[0m\u001b[37m\u001b[0m \u001b[1m0s\u001b[0m 2ms/step - accuracy: 0.1463 - loss: 2.4103 - val_accuracy: 0.2756 - val_loss: 2.0816\n",
      "Epoch 3/120\n",
      "\u001b[1m127/127\u001b[0m \u001b[32m━━━━━━━━━━━━━━━━━━━━\u001b[0m\u001b[37m\u001b[0m \u001b[1m0s\u001b[0m 2ms/step - accuracy: 0.1959 - loss: 2.1975 - val_accuracy: 0.3156 - val_loss: 1.8956\n",
      "Epoch 4/120\n",
      "\u001b[1m127/127\u001b[0m \u001b[32m━━━━━━━━━━━━━━━━━━━━\u001b[0m\u001b[37m\u001b[0m \u001b[1m0s\u001b[0m 2ms/step - accuracy: 0.2787 - loss: 2.0299 - val_accuracy: 0.4044 - val_loss: 1.7036\n",
      "Epoch 5/120\n",
      "\u001b[1m127/127\u001b[0m \u001b[32m━━━━━━━━━━━━━━━━━━━━\u001b[0m\u001b[37m\u001b[0m \u001b[1m0s\u001b[0m 2ms/step - accuracy: 0.3241 - loss: 1.8582 - val_accuracy: 0.4533 - val_loss: 1.4794\n",
      "Epoch 6/120\n",
      "\u001b[1m127/127\u001b[0m \u001b[32m━━━━━━━━━━━━━━━━━━━━\u001b[0m\u001b[37m\u001b[0m \u001b[1m0s\u001b[0m 2ms/step - accuracy: 0.3867 - loss: 1.7339 - val_accuracy: 0.5644 - val_loss: 1.2971\n",
      "Epoch 7/120\n",
      "\u001b[1m127/127\u001b[0m \u001b[32m━━━━━━━━━━━━━━━━━━━━\u001b[0m\u001b[37m\u001b[0m \u001b[1m0s\u001b[0m 2ms/step - accuracy: 0.4259 - loss: 1.6256 - val_accuracy: 0.6178 - val_loss: 1.1662\n",
      "Epoch 8/120\n",
      "\u001b[1m127/127\u001b[0m \u001b[32m━━━━━━━━━━━━━━━━━━━━\u001b[0m\u001b[37m\u001b[0m \u001b[1m0s\u001b[0m 2ms/step - accuracy: 0.4518 - loss: 1.5295 - val_accuracy: 0.7156 - val_loss: 1.0633\n",
      "Epoch 9/120\n",
      "\u001b[1m127/127\u001b[0m \u001b[32m━━━━━━━━━━━━━━━━━━━━\u001b[0m\u001b[37m\u001b[0m \u001b[1m0s\u001b[0m 2ms/step - accuracy: 0.5098 - loss: 1.4023 - val_accuracy: 0.7200 - val_loss: 0.9788\n",
      "Epoch 10/120\n",
      "\u001b[1m127/127\u001b[0m \u001b[32m━━━━━━━━━━━━━━━━━━━━\u001b[0m\u001b[37m\u001b[0m \u001b[1m0s\u001b[0m 2ms/step - accuracy: 0.5406 - loss: 1.3329 - val_accuracy: 0.7511 - val_loss: 0.8837\n",
      "Epoch 11/120\n",
      "\u001b[1m127/127\u001b[0m \u001b[32m━━━━━━━━━━━━━━━━━━━━\u001b[0m\u001b[37m\u001b[0m \u001b[1m0s\u001b[0m 2ms/step - accuracy: 0.5556 - loss: 1.2791 - val_accuracy: 0.7956 - val_loss: 0.7931\n",
      "Epoch 12/120\n",
      "\u001b[1m127/127\u001b[0m \u001b[32m━━━━━━━━━━━━━━━━━━━━\u001b[0m\u001b[37m\u001b[0m \u001b[1m0s\u001b[0m 3ms/step - accuracy: 0.5656 - loss: 1.2282 - val_accuracy: 0.7911 - val_loss: 0.7490\n",
      "Epoch 13/120\n",
      "\u001b[1m127/127\u001b[0m \u001b[32m━━━━━━━━━━━━━━━━━━━━\u001b[0m\u001b[37m\u001b[0m \u001b[1m0s\u001b[0m 2ms/step - accuracy: 0.6231 - loss: 1.0956 - val_accuracy: 0.8178 - val_loss: 0.6943\n",
      "Epoch 14/120\n",
      "\u001b[1m127/127\u001b[0m \u001b[32m━━━━━━━━━━━━━━━━━━━━\u001b[0m\u001b[37m\u001b[0m \u001b[1m0s\u001b[0m 3ms/step - accuracy: 0.6349 - loss: 1.0607 - val_accuracy: 0.7867 - val_loss: 0.6791\n",
      "Epoch 15/120\n",
      "\u001b[1m127/127\u001b[0m \u001b[32m━━━━━━━━━━━━━━━━━━━━\u001b[0m\u001b[37m\u001b[0m \u001b[1m0s\u001b[0m 3ms/step - accuracy: 0.6610 - loss: 0.9899 - val_accuracy: 0.8267 - val_loss: 0.6391\n",
      "Epoch 16/120\n",
      "\u001b[1m127/127\u001b[0m \u001b[32m━━━━━━━━━━━━━━━━━━━━\u001b[0m\u001b[37m\u001b[0m \u001b[1m0s\u001b[0m 2ms/step - accuracy: 0.6809 - loss: 0.9464 - val_accuracy: 0.8533 - val_loss: 0.5764\n",
      "Epoch 17/120\n",
      "\u001b[1m127/127\u001b[0m \u001b[32m━━━━━━━━━━━━━━━━━━━━\u001b[0m\u001b[37m\u001b[0m \u001b[1m0s\u001b[0m 2ms/step - accuracy: 0.6852 - loss: 0.9679 - val_accuracy: 0.8489 - val_loss: 0.5608\n",
      "Epoch 18/120\n",
      "\u001b[1m127/127\u001b[0m \u001b[32m━━━━━━━━━━━━━━━━━━━━\u001b[0m\u001b[37m\u001b[0m \u001b[1m0s\u001b[0m 2ms/step - accuracy: 0.6823 - loss: 0.9398 - val_accuracy: 0.8222 - val_loss: 0.5371\n",
      "Epoch 19/120\n",
      "\u001b[1m127/127\u001b[0m \u001b[32m━━━━━━━━━━━━━━━━━━━━\u001b[0m\u001b[37m\u001b[0m \u001b[1m0s\u001b[0m 2ms/step - accuracy: 0.6900 - loss: 0.8932 - val_accuracy: 0.8533 - val_loss: 0.4931\n",
      "Epoch 20/120\n",
      "\u001b[1m127/127\u001b[0m \u001b[32m━━━━━━━━━━━━━━━━━━━━\u001b[0m\u001b[37m\u001b[0m \u001b[1m0s\u001b[0m 2ms/step - accuracy: 0.7084 - loss: 0.8622 - val_accuracy: 0.8578 - val_loss: 0.4691\n",
      "Epoch 21/120\n",
      "\u001b[1m127/127\u001b[0m \u001b[32m━━━━━━━━━━━━━━━━━━━━\u001b[0m\u001b[37m\u001b[0m \u001b[1m0s\u001b[0m 2ms/step - accuracy: 0.6983 - loss: 0.9030 - val_accuracy: 0.8667 - val_loss: 0.4323\n",
      "Epoch 22/120\n",
      "\u001b[1m127/127\u001b[0m \u001b[32m━━━━━━━━━━━━━━━━━━━━\u001b[0m\u001b[37m\u001b[0m \u001b[1m0s\u001b[0m 2ms/step - accuracy: 0.7007 - loss: 0.8902 - val_accuracy: 0.8800 - val_loss: 0.4129\n",
      "Epoch 23/120\n",
      "\u001b[1m127/127\u001b[0m \u001b[32m━━━━━━━━━━━━━━━━━━━━\u001b[0m\u001b[37m\u001b[0m \u001b[1m0s\u001b[0m 2ms/step - accuracy: 0.7159 - loss: 0.8510 - val_accuracy: 0.8800 - val_loss: 0.4094\n",
      "Epoch 24/120\n",
      "\u001b[1m127/127\u001b[0m \u001b[32m━━━━━━━━━━━━━━━━━━━━\u001b[0m\u001b[37m\u001b[0m \u001b[1m0s\u001b[0m 2ms/step - accuracy: 0.7387 - loss: 0.7620 - val_accuracy: 0.8711 - val_loss: 0.3949\n",
      "Epoch 25/120\n",
      "\u001b[1m127/127\u001b[0m \u001b[32m━━━━━━━━━━━━━━━━━━━━\u001b[0m\u001b[37m\u001b[0m \u001b[1m0s\u001b[0m 3ms/step - accuracy: 0.7424 - loss: 0.7843 - val_accuracy: 0.8756 - val_loss: 0.4006\n",
      "Epoch 26/120\n",
      "\u001b[1m127/127\u001b[0m \u001b[32m━━━━━━━━━━━━━━━━━━━━\u001b[0m\u001b[37m\u001b[0m \u001b[1m0s\u001b[0m 2ms/step - accuracy: 0.7520 - loss: 0.7814 - val_accuracy: 0.9067 - val_loss: 0.3428\n",
      "Epoch 27/120\n",
      "\u001b[1m127/127\u001b[0m \u001b[32m━━━━━━━━━━━━━━━━━━━━\u001b[0m\u001b[37m\u001b[0m \u001b[1m0s\u001b[0m 2ms/step - accuracy: 0.7438 - loss: 0.7853 - val_accuracy: 0.8978 - val_loss: 0.3333\n",
      "Epoch 28/120\n",
      "\u001b[1m127/127\u001b[0m \u001b[32m━━━━━━━━━━━━━━━━━━━━\u001b[0m\u001b[37m\u001b[0m \u001b[1m0s\u001b[0m 2ms/step - accuracy: 0.7756 - loss: 0.7131 - val_accuracy: 0.9156 - val_loss: 0.3174\n",
      "Epoch 29/120\n",
      "\u001b[1m127/127\u001b[0m \u001b[32m━━━━━━━━━━━━━━━━━━━━\u001b[0m\u001b[37m\u001b[0m \u001b[1m0s\u001b[0m 2ms/step - accuracy: 0.7460 - loss: 0.7517 - val_accuracy: 0.9111 - val_loss: 0.3133\n",
      "Epoch 30/120\n",
      "\u001b[1m127/127\u001b[0m \u001b[32m━━━━━━━━━━━━━━━━━━━━\u001b[0m\u001b[37m\u001b[0m \u001b[1m0s\u001b[0m 3ms/step - accuracy: 0.7687 - loss: 0.7077 - val_accuracy: 0.9067 - val_loss: 0.3044\n",
      "Epoch 31/120\n",
      "\u001b[1m127/127\u001b[0m \u001b[32m━━━━━━━━━━━━━━━━━━━━\u001b[0m\u001b[37m\u001b[0m \u001b[1m0s\u001b[0m 2ms/step - accuracy: 0.7775 - loss: 0.6677 - val_accuracy: 0.9111 - val_loss: 0.2877\n",
      "Epoch 32/120\n",
      "\u001b[1m127/127\u001b[0m \u001b[32m━━━━━━━━━━━━━━━━━━━━\u001b[0m\u001b[37m\u001b[0m \u001b[1m0s\u001b[0m 2ms/step - accuracy: 0.7963 - loss: 0.6441 - val_accuracy: 0.9200 - val_loss: 0.2936\n",
      "Epoch 33/120\n",
      "\u001b[1m127/127\u001b[0m \u001b[32m━━━━━━━━━━━━━━━━━━━━\u001b[0m\u001b[37m\u001b[0m \u001b[1m0s\u001b[0m 2ms/step - accuracy: 0.7697 - loss: 0.7195 - val_accuracy: 0.9111 - val_loss: 0.2964\n",
      "Epoch 34/120\n",
      "\u001b[1m127/127\u001b[0m \u001b[32m━━━━━━━━━━━━━━━━━━━━\u001b[0m\u001b[37m\u001b[0m \u001b[1m0s\u001b[0m 2ms/step - accuracy: 0.7605 - loss: 0.7410 - val_accuracy: 0.9200 - val_loss: 0.2789\n",
      "Epoch 35/120\n",
      "\u001b[1m127/127\u001b[0m \u001b[32m━━━━━━━━━━━━━━━━━━━━\u001b[0m\u001b[37m\u001b[0m \u001b[1m0s\u001b[0m 2ms/step - accuracy: 0.7801 - loss: 0.6682 - val_accuracy: 0.9156 - val_loss: 0.2822\n",
      "Epoch 36/120\n",
      "\u001b[1m127/127\u001b[0m \u001b[32m━━━━━━━━━━━━━━━━━━━━\u001b[0m\u001b[37m\u001b[0m \u001b[1m0s\u001b[0m 2ms/step - accuracy: 0.7857 - loss: 0.6633 - val_accuracy: 0.9067 - val_loss: 0.2816\n",
      "Epoch 37/120\n",
      "\u001b[1m127/127\u001b[0m \u001b[32m━━━━━━━━━━━━━━━━━━━━\u001b[0m\u001b[37m\u001b[0m \u001b[1m0s\u001b[0m 2ms/step - accuracy: 0.8002 - loss: 0.6426 - val_accuracy: 0.9200 - val_loss: 0.2624\n",
      "Epoch 38/120\n",
      "\u001b[1m127/127\u001b[0m \u001b[32m━━━━━━━━━━━━━━━━━━━━\u001b[0m\u001b[37m\u001b[0m \u001b[1m0s\u001b[0m 2ms/step - accuracy: 0.7931 - loss: 0.6346 - val_accuracy: 0.9111 - val_loss: 0.2621\n",
      "Epoch 39/120\n",
      "\u001b[1m127/127\u001b[0m \u001b[32m━━━━━━━━━━━━━━━━━━━━\u001b[0m\u001b[37m\u001b[0m \u001b[1m0s\u001b[0m 2ms/step - accuracy: 0.7963 - loss: 0.6026 - val_accuracy: 0.9156 - val_loss: 0.2555\n",
      "Epoch 40/120\n",
      "\u001b[1m127/127\u001b[0m \u001b[32m━━━━━━━━━━━━━━━━━━━━\u001b[0m\u001b[37m\u001b[0m \u001b[1m0s\u001b[0m 2ms/step - accuracy: 0.7948 - loss: 0.6579 - val_accuracy: 0.9067 - val_loss: 0.2792\n",
      "Epoch 41/120\n",
      "\u001b[1m127/127\u001b[0m \u001b[32m━━━━━━━━━━━━━━━━━━━━\u001b[0m\u001b[37m\u001b[0m \u001b[1m0s\u001b[0m 2ms/step - accuracy: 0.7905 - loss: 0.6584 - val_accuracy: 0.9422 - val_loss: 0.2345\n",
      "Epoch 42/120\n",
      "\u001b[1m127/127\u001b[0m \u001b[32m━━━━━━━━━━━━━━━━━━━━\u001b[0m\u001b[37m\u001b[0m \u001b[1m0s\u001b[0m 2ms/step - accuracy: 0.7996 - loss: 0.6041 - val_accuracy: 0.9111 - val_loss: 0.2621\n",
      "Epoch 43/120\n",
      "\u001b[1m127/127\u001b[0m \u001b[32m━━━━━━━━━━━━━━━━━━━━\u001b[0m\u001b[37m\u001b[0m \u001b[1m0s\u001b[0m 2ms/step - accuracy: 0.8118 - loss: 0.6223 - val_accuracy: 0.9378 - val_loss: 0.2467\n",
      "Epoch 44/120\n",
      "\u001b[1m127/127\u001b[0m \u001b[32m━━━━━━━━━━━━━━━━━━━━\u001b[0m\u001b[37m\u001b[0m \u001b[1m0s\u001b[0m 2ms/step - accuracy: 0.8054 - loss: 0.5904 - val_accuracy: 0.9244 - val_loss: 0.2299\n",
      "Epoch 45/120\n",
      "\u001b[1m127/127\u001b[0m \u001b[32m━━━━━━━━━━━━━━━━━━━━\u001b[0m\u001b[37m\u001b[0m \u001b[1m0s\u001b[0m 2ms/step - accuracy: 0.8137 - loss: 0.5374 - val_accuracy: 0.9200 - val_loss: 0.2393\n",
      "Epoch 46/120\n",
      "\u001b[1m127/127\u001b[0m \u001b[32m━━━━━━━━━━━━━━━━━━━━\u001b[0m\u001b[37m\u001b[0m \u001b[1m0s\u001b[0m 2ms/step - accuracy: 0.8201 - loss: 0.6020 - val_accuracy: 0.9511 - val_loss: 0.2203\n",
      "Epoch 47/120\n",
      "\u001b[1m127/127\u001b[0m \u001b[32m━━━━━━━━━━━━━━━━━━━━\u001b[0m\u001b[37m\u001b[0m \u001b[1m0s\u001b[0m 2ms/step - accuracy: 0.8202 - loss: 0.5803 - val_accuracy: 0.9333 - val_loss: 0.2330\n",
      "Epoch 48/120\n",
      "\u001b[1m127/127\u001b[0m \u001b[32m━━━━━━━━━━━━━━━━━━━━\u001b[0m\u001b[37m\u001b[0m \u001b[1m0s\u001b[0m 2ms/step - accuracy: 0.8050 - loss: 0.5913 - val_accuracy: 0.9289 - val_loss: 0.2350\n",
      "Epoch 49/120\n",
      "\u001b[1m127/127\u001b[0m \u001b[32m━━━━━━━━━━━━━━━━━━━━\u001b[0m\u001b[37m\u001b[0m \u001b[1m0s\u001b[0m 2ms/step - accuracy: 0.8274 - loss: 0.5404 - val_accuracy: 0.9378 - val_loss: 0.2187\n",
      "Epoch 50/120\n",
      "\u001b[1m127/127\u001b[0m \u001b[32m━━━━━━━━━━━━━━━━━━━━\u001b[0m\u001b[37m\u001b[0m \u001b[1m0s\u001b[0m 2ms/step - accuracy: 0.8069 - loss: 0.5748 - val_accuracy: 0.9289 - val_loss: 0.2039\n",
      "Epoch 51/120\n",
      "\u001b[1m127/127\u001b[0m \u001b[32m━━━━━━━━━━━━━━━━━━━━\u001b[0m\u001b[37m\u001b[0m \u001b[1m0s\u001b[0m 2ms/step - accuracy: 0.8060 - loss: 0.5755 - val_accuracy: 0.9333 - val_loss: 0.2209\n",
      "Epoch 52/120\n",
      "\u001b[1m127/127\u001b[0m \u001b[32m━━━━━━━━━━━━━━━━━━━━\u001b[0m\u001b[37m\u001b[0m \u001b[1m0s\u001b[0m 2ms/step - accuracy: 0.7921 - loss: 0.6195 - val_accuracy: 0.9200 - val_loss: 0.2341\n",
      "Epoch 53/120\n",
      "\u001b[1m127/127\u001b[0m \u001b[32m━━━━━━━━━━━━━━━━━━━━\u001b[0m\u001b[37m\u001b[0m \u001b[1m0s\u001b[0m 2ms/step - accuracy: 0.8321 - loss: 0.5392 - val_accuracy: 0.9511 - val_loss: 0.1995\n",
      "Epoch 54/120\n",
      "\u001b[1m127/127\u001b[0m \u001b[32m━━━━━━━━━━━━━━━━━━━━\u001b[0m\u001b[37m\u001b[0m \u001b[1m0s\u001b[0m 2ms/step - accuracy: 0.8236 - loss: 0.5500 - val_accuracy: 0.9378 - val_loss: 0.2137\n",
      "Epoch 55/120\n",
      "\u001b[1m127/127\u001b[0m \u001b[32m━━━━━━━━━━━━━━━━━━━━\u001b[0m\u001b[37m\u001b[0m \u001b[1m0s\u001b[0m 3ms/step - accuracy: 0.8363 - loss: 0.5114 - val_accuracy: 0.9511 - val_loss: 0.2040\n",
      "Epoch 56/120\n",
      "\u001b[1m127/127\u001b[0m \u001b[32m━━━━━━━━━━━━━━━━━━━━\u001b[0m\u001b[37m\u001b[0m \u001b[1m0s\u001b[0m 2ms/step - accuracy: 0.8177 - loss: 0.5585 - val_accuracy: 0.9378 - val_loss: 0.2031\n",
      "Epoch 57/120\n",
      "\u001b[1m127/127\u001b[0m \u001b[32m━━━━━━━━━━━━━━━━━━━━\u001b[0m\u001b[37m\u001b[0m \u001b[1m0s\u001b[0m 2ms/step - accuracy: 0.8288 - loss: 0.5014 - val_accuracy: 0.9422 - val_loss: 0.2080\n",
      "Epoch 58/120\n",
      "\u001b[1m127/127\u001b[0m \u001b[32m━━━━━━━━━━━━━━━━━━━━\u001b[0m\u001b[37m\u001b[0m \u001b[1m0s\u001b[0m 2ms/step - accuracy: 0.8490 - loss: 0.5169 - val_accuracy: 0.9378 - val_loss: 0.2179\n",
      "Epoch 59/120\n",
      "\u001b[1m127/127\u001b[0m \u001b[32m━━━━━━━━━━━━━━━━━━━━\u001b[0m\u001b[37m\u001b[0m \u001b[1m0s\u001b[0m 2ms/step - accuracy: 0.8182 - loss: 0.5374 - val_accuracy: 0.9378 - val_loss: 0.2061\n",
      "Epoch 60/120\n",
      "\u001b[1m127/127\u001b[0m \u001b[32m━━━━━━━━━━━━━━━━━━━━\u001b[0m\u001b[37m\u001b[0m \u001b[1m0s\u001b[0m 2ms/step - accuracy: 0.8410 - loss: 0.4985 - val_accuracy: 0.9511 - val_loss: 0.1829\n",
      "Epoch 61/120\n",
      "\u001b[1m127/127\u001b[0m \u001b[32m━━━━━━━━━━━━━━━━━━━━\u001b[0m\u001b[37m\u001b[0m \u001b[1m0s\u001b[0m 3ms/step - accuracy: 0.8502 - loss: 0.4931 - val_accuracy: 0.9467 - val_loss: 0.1945\n",
      "Epoch 62/120\n",
      "\u001b[1m127/127\u001b[0m \u001b[32m━━━━━━━━━━━━━━━━━━━━\u001b[0m\u001b[37m\u001b[0m \u001b[1m0s\u001b[0m 2ms/step - accuracy: 0.8299 - loss: 0.5287 - val_accuracy: 0.9244 - val_loss: 0.2192\n",
      "Epoch 63/120\n",
      "\u001b[1m127/127\u001b[0m \u001b[32m━━━━━━━━━━━━━━━━━━━━\u001b[0m\u001b[37m\u001b[0m \u001b[1m0s\u001b[0m 2ms/step - accuracy: 0.8483 - loss: 0.4849 - val_accuracy: 0.9422 - val_loss: 0.2023\n",
      "Epoch 64/120\n",
      "\u001b[1m127/127\u001b[0m \u001b[32m━━━━━━━━━━━━━━━━━━━━\u001b[0m\u001b[37m\u001b[0m \u001b[1m0s\u001b[0m 2ms/step - accuracy: 0.8540 - loss: 0.4646 - val_accuracy: 0.9422 - val_loss: 0.1967\n",
      "Epoch 65/120\n",
      "\u001b[1m127/127\u001b[0m \u001b[32m━━━━━━━━━━━━━━━━━━━━\u001b[0m\u001b[37m\u001b[0m \u001b[1m0s\u001b[0m 2ms/step - accuracy: 0.8397 - loss: 0.5196 - val_accuracy: 0.9556 - val_loss: 0.1830\n",
      "Epoch 66/120\n",
      "\u001b[1m127/127\u001b[0m \u001b[32m━━━━━━━━━━━━━━━━━━━━\u001b[0m\u001b[37m\u001b[0m \u001b[1m0s\u001b[0m 2ms/step - accuracy: 0.8410 - loss: 0.4891 - val_accuracy: 0.9378 - val_loss: 0.2019\n",
      "Epoch 67/120\n",
      "\u001b[1m127/127\u001b[0m \u001b[32m━━━━━━━━━━━━━━━━━━━━\u001b[0m\u001b[37m\u001b[0m \u001b[1m0s\u001b[0m 2ms/step - accuracy: 0.8353 - loss: 0.4930 - val_accuracy: 0.9467 - val_loss: 0.1910\n",
      "Epoch 68/120\n",
      "\u001b[1m127/127\u001b[0m \u001b[32m━━━━━━━━━━━━━━━━━━━━\u001b[0m\u001b[37m\u001b[0m \u001b[1m0s\u001b[0m 2ms/step - accuracy: 0.8333 - loss: 0.4896 - val_accuracy: 0.9333 - val_loss: 0.1944\n",
      "Epoch 69/120\n",
      "\u001b[1m127/127\u001b[0m \u001b[32m━━━━━━━━━━━━━━━━━━━━\u001b[0m\u001b[37m\u001b[0m \u001b[1m0s\u001b[0m 2ms/step - accuracy: 0.8468 - loss: 0.5029 - val_accuracy: 0.9289 - val_loss: 0.2043\n",
      "Epoch 70/120\n",
      "\u001b[1m127/127\u001b[0m \u001b[32m━━━━━━━━━━━━━━━━━━━━\u001b[0m\u001b[37m\u001b[0m \u001b[1m0s\u001b[0m 2ms/step - accuracy: 0.8487 - loss: 0.5007 - val_accuracy: 0.9556 - val_loss: 0.1835\n",
      "Epoch 71/120\n",
      "\u001b[1m127/127\u001b[0m \u001b[32m━━━━━━━━━━━━━━━━━━━━\u001b[0m\u001b[37m\u001b[0m \u001b[1m0s\u001b[0m 2ms/step - accuracy: 0.8674 - loss: 0.4422 - val_accuracy: 0.9600 - val_loss: 0.1748\n",
      "Epoch 72/120\n",
      "\u001b[1m127/127\u001b[0m \u001b[32m━━━━━━━━━━━━━━━━━━━━\u001b[0m\u001b[37m\u001b[0m \u001b[1m0s\u001b[0m 2ms/step - accuracy: 0.8361 - loss: 0.5304 - val_accuracy: 0.9333 - val_loss: 0.1919\n",
      "Epoch 73/120\n",
      "\u001b[1m127/127\u001b[0m \u001b[32m━━━━━━━━━━━━━━━━━━━━\u001b[0m\u001b[37m\u001b[0m \u001b[1m0s\u001b[0m 2ms/step - accuracy: 0.8216 - loss: 0.5367 - val_accuracy: 0.9467 - val_loss: 0.1936\n",
      "Epoch 74/120\n",
      "\u001b[1m127/127\u001b[0m \u001b[32m━━━━━━━━━━━━━━━━━━━━\u001b[0m\u001b[37m\u001b[0m \u001b[1m0s\u001b[0m 2ms/step - accuracy: 0.8747 - loss: 0.4310 - val_accuracy: 0.9644 - val_loss: 0.1648\n",
      "Epoch 75/120\n",
      "\u001b[1m127/127\u001b[0m \u001b[32m━━━━━━━━━━━━━━━━━━━━\u001b[0m\u001b[37m\u001b[0m \u001b[1m0s\u001b[0m 2ms/step - accuracy: 0.8631 - loss: 0.4342 - val_accuracy: 0.9467 - val_loss: 0.1871\n",
      "Epoch 76/120\n",
      "\u001b[1m127/127\u001b[0m \u001b[32m━━━━━━━━━━━━━━━━━━━━\u001b[0m\u001b[37m\u001b[0m \u001b[1m0s\u001b[0m 2ms/step - accuracy: 0.8515 - loss: 0.4538 - val_accuracy: 0.9511 - val_loss: 0.1913\n",
      "Epoch 77/120\n",
      "\u001b[1m127/127\u001b[0m \u001b[32m━━━━━━━━━━━━━━━━━━━━\u001b[0m\u001b[37m\u001b[0m \u001b[1m0s\u001b[0m 2ms/step - accuracy: 0.8541 - loss: 0.4914 - val_accuracy: 0.9467 - val_loss: 0.1866\n",
      "Epoch 78/120\n",
      "\u001b[1m127/127\u001b[0m \u001b[32m━━━━━━━━━━━━━━━━━━━━\u001b[0m\u001b[37m\u001b[0m \u001b[1m0s\u001b[0m 2ms/step - accuracy: 0.8219 - loss: 0.5175 - val_accuracy: 0.9556 - val_loss: 0.1807\n",
      "Epoch 79/120\n",
      "\u001b[1m127/127\u001b[0m \u001b[32m━━━━━━━━━━━━━━━━━━━━\u001b[0m\u001b[37m\u001b[0m \u001b[1m0s\u001b[0m 2ms/step - accuracy: 0.8594 - loss: 0.4413 - val_accuracy: 0.9556 - val_loss: 0.1577\n",
      "Epoch 80/120\n",
      "\u001b[1m127/127\u001b[0m \u001b[32m━━━━━━━━━━━━━━━━━━━━\u001b[0m\u001b[37m\u001b[0m \u001b[1m0s\u001b[0m 2ms/step - accuracy: 0.8472 - loss: 0.4683 - val_accuracy: 0.9467 - val_loss: 0.1787\n",
      "Epoch 81/120\n",
      "\u001b[1m127/127\u001b[0m \u001b[32m━━━━━━━━━━━━━━━━━━━━\u001b[0m\u001b[37m\u001b[0m \u001b[1m0s\u001b[0m 2ms/step - accuracy: 0.8441 - loss: 0.4648 - val_accuracy: 0.9556 - val_loss: 0.1704\n",
      "Epoch 82/120\n",
      "\u001b[1m127/127\u001b[0m \u001b[32m━━━━━━━━━━━━━━━━━━━━\u001b[0m\u001b[37m\u001b[0m \u001b[1m0s\u001b[0m 2ms/step - accuracy: 0.8384 - loss: 0.4960 - val_accuracy: 0.9422 - val_loss: 0.1896\n",
      "Epoch 83/120\n",
      "\u001b[1m127/127\u001b[0m \u001b[32m━━━━━━━━━━━━━━━━━━━━\u001b[0m\u001b[37m\u001b[0m \u001b[1m0s\u001b[0m 2ms/step - accuracy: 0.8769 - loss: 0.3825 - val_accuracy: 0.9556 - val_loss: 0.1745\n",
      "Epoch 84/120\n",
      "\u001b[1m127/127\u001b[0m \u001b[32m━━━━━━━━━━━━━━━━━━━━\u001b[0m\u001b[37m\u001b[0m \u001b[1m0s\u001b[0m 2ms/step - accuracy: 0.8452 - loss: 0.5020 - val_accuracy: 0.9467 - val_loss: 0.1717\n",
      "Epoch 85/120\n",
      "\u001b[1m127/127\u001b[0m \u001b[32m━━━━━━━━━━━━━━━━━━━━\u001b[0m\u001b[37m\u001b[0m \u001b[1m0s\u001b[0m 3ms/step - accuracy: 0.8509 - loss: 0.4749 - val_accuracy: 0.9556 - val_loss: 0.1549\n",
      "Epoch 86/120\n",
      "\u001b[1m127/127\u001b[0m \u001b[32m━━━━━━━━━━━━━━━━━━━━\u001b[0m\u001b[37m\u001b[0m \u001b[1m0s\u001b[0m 2ms/step - accuracy: 0.8568 - loss: 0.4160 - val_accuracy: 0.9511 - val_loss: 0.1511\n",
      "Epoch 87/120\n",
      "\u001b[1m127/127\u001b[0m \u001b[32m━━━━━━━━━━━━━━━━━━━━\u001b[0m\u001b[37m\u001b[0m \u001b[1m0s\u001b[0m 2ms/step - accuracy: 0.8547 - loss: 0.4443 - val_accuracy: 0.9511 - val_loss: 0.1521\n",
      "Epoch 88/120\n",
      "\u001b[1m127/127\u001b[0m \u001b[32m━━━━━━━━━━━━━━━━━━━━\u001b[0m\u001b[37m\u001b[0m \u001b[1m0s\u001b[0m 2ms/step - accuracy: 0.8515 - loss: 0.4702 - val_accuracy: 0.9644 - val_loss: 0.1544\n",
      "Epoch 89/120\n",
      "\u001b[1m127/127\u001b[0m \u001b[32m━━━━━━━━━━━━━━━━━━━━\u001b[0m\u001b[37m\u001b[0m \u001b[1m0s\u001b[0m 2ms/step - accuracy: 0.8692 - loss: 0.4398 - val_accuracy: 0.9467 - val_loss: 0.1715\n",
      "Epoch 90/120\n",
      "\u001b[1m127/127\u001b[0m \u001b[32m━━━━━━━━━━━━━━━━━━━━\u001b[0m\u001b[37m\u001b[0m \u001b[1m0s\u001b[0m 2ms/step - accuracy: 0.8487 - loss: 0.4630 - val_accuracy: 0.9422 - val_loss: 0.1668\n",
      "Epoch 91/120\n",
      "\u001b[1m127/127\u001b[0m \u001b[32m━━━━━━━━━━━━━━━━━━━━\u001b[0m\u001b[37m\u001b[0m \u001b[1m0s\u001b[0m 2ms/step - accuracy: 0.8618 - loss: 0.4472 - val_accuracy: 0.9556 - val_loss: 0.1622\n",
      "Epoch 92/120\n",
      "\u001b[1m127/127\u001b[0m \u001b[32m━━━━━━━━━━━━━━━━━━━━\u001b[0m\u001b[37m\u001b[0m \u001b[1m0s\u001b[0m 2ms/step - accuracy: 0.8545 - loss: 0.4251 - val_accuracy: 0.9511 - val_loss: 0.1770\n",
      "Epoch 93/120\n",
      "\u001b[1m127/127\u001b[0m \u001b[32m━━━━━━━━━━━━━━━━━━━━\u001b[0m\u001b[37m\u001b[0m \u001b[1m0s\u001b[0m 3ms/step - accuracy: 0.8631 - loss: 0.4183 - val_accuracy: 0.9511 - val_loss: 0.1674\n",
      "Epoch 94/120\n",
      "\u001b[1m127/127\u001b[0m \u001b[32m━━━━━━━━━━━━━━━━━━━━\u001b[0m\u001b[37m\u001b[0m \u001b[1m0s\u001b[0m 3ms/step - accuracy: 0.8459 - loss: 0.4471 - val_accuracy: 0.9556 - val_loss: 0.1678\n",
      "Epoch 95/120\n",
      "\u001b[1m127/127\u001b[0m \u001b[32m━━━━━━━━━━━━━━━━━━━━\u001b[0m\u001b[37m\u001b[0m \u001b[1m0s\u001b[0m 3ms/step - accuracy: 0.8597 - loss: 0.4432 - val_accuracy: 0.9556 - val_loss: 0.1508\n",
      "Epoch 96/120\n",
      "\u001b[1m127/127\u001b[0m \u001b[32m━━━━━━━━━━━━━━━━━━━━\u001b[0m\u001b[37m\u001b[0m \u001b[1m0s\u001b[0m 3ms/step - accuracy: 0.8726 - loss: 0.4049 - val_accuracy: 0.9556 - val_loss: 0.1683\n",
      "Epoch 97/120\n",
      "\u001b[1m127/127\u001b[0m \u001b[32m━━━━━━━━━━━━━━━━━━━━\u001b[0m\u001b[37m\u001b[0m \u001b[1m0s\u001b[0m 2ms/step - accuracy: 0.8502 - loss: 0.4505 - val_accuracy: 0.9556 - val_loss: 0.1557\n",
      "Epoch 98/120\n",
      "\u001b[1m127/127\u001b[0m \u001b[32m━━━━━━━━━━━━━━━━━━━━\u001b[0m\u001b[37m\u001b[0m \u001b[1m0s\u001b[0m 2ms/step - accuracy: 0.8507 - loss: 0.4604 - val_accuracy: 0.9600 - val_loss: 0.1606\n",
      "Epoch 99/120\n",
      "\u001b[1m127/127\u001b[0m \u001b[32m━━━━━━━━━━━━━━━━━━━━\u001b[0m\u001b[37m\u001b[0m \u001b[1m0s\u001b[0m 2ms/step - accuracy: 0.8725 - loss: 0.4155 - val_accuracy: 0.9467 - val_loss: 0.1631\n",
      "Epoch 100/120\n",
      "\u001b[1m127/127\u001b[0m \u001b[32m━━━━━━━━━━━━━━━━━━━━\u001b[0m\u001b[37m\u001b[0m \u001b[1m0s\u001b[0m 2ms/step - accuracy: 0.8704 - loss: 0.3964 - val_accuracy: 0.9600 - val_loss: 0.1486\n",
      "Epoch 101/120\n",
      "\u001b[1m127/127\u001b[0m \u001b[32m━━━━━━━━━━━━━━━━━━━━\u001b[0m\u001b[37m\u001b[0m \u001b[1m0s\u001b[0m 2ms/step - accuracy: 0.8652 - loss: 0.4248 - val_accuracy: 0.9600 - val_loss: 0.1457\n",
      "Epoch 102/120\n",
      "\u001b[1m127/127\u001b[0m \u001b[32m━━━━━━━━━━━━━━━━━━━━\u001b[0m\u001b[37m\u001b[0m \u001b[1m0s\u001b[0m 2ms/step - accuracy: 0.8408 - loss: 0.4926 - val_accuracy: 0.9511 - val_loss: 0.1482\n",
      "Epoch 103/120\n",
      "\u001b[1m127/127\u001b[0m \u001b[32m━━━━━━━━━━━━━━━━━━━━\u001b[0m\u001b[37m\u001b[0m \u001b[1m0s\u001b[0m 2ms/step - accuracy: 0.8564 - loss: 0.4283 - val_accuracy: 0.9600 - val_loss: 0.1428\n",
      "Epoch 104/120\n",
      "\u001b[1m127/127\u001b[0m \u001b[32m━━━━━━━━━━━━━━━━━━━━\u001b[0m\u001b[37m\u001b[0m \u001b[1m0s\u001b[0m 2ms/step - accuracy: 0.8532 - loss: 0.4387 - val_accuracy: 0.9511 - val_loss: 0.1596\n",
      "Epoch 105/120\n",
      "\u001b[1m127/127\u001b[0m \u001b[32m━━━━━━━━━━━━━━━━━━━━\u001b[0m\u001b[37m\u001b[0m \u001b[1m0s\u001b[0m 3ms/step - accuracy: 0.8522 - loss: 0.4133 - val_accuracy: 0.9689 - val_loss: 0.1450\n",
      "Epoch 106/120\n",
      "\u001b[1m127/127\u001b[0m \u001b[32m━━━━━━━━━━━━━━━━━━━━\u001b[0m\u001b[37m\u001b[0m \u001b[1m0s\u001b[0m 3ms/step - accuracy: 0.8808 - loss: 0.3916 - val_accuracy: 0.9511 - val_loss: 0.1499\n",
      "Epoch 107/120\n",
      "\u001b[1m127/127\u001b[0m \u001b[32m━━━━━━━━━━━━━━━━━━━━\u001b[0m\u001b[37m\u001b[0m \u001b[1m0s\u001b[0m 3ms/step - accuracy: 0.8642 - loss: 0.4337 - val_accuracy: 0.9556 - val_loss: 0.1676\n",
      "Epoch 108/120\n",
      "\u001b[1m127/127\u001b[0m \u001b[32m━━━━━━━━━━━━━━━━━━━━\u001b[0m\u001b[37m\u001b[0m \u001b[1m0s\u001b[0m 3ms/step - accuracy: 0.8596 - loss: 0.4496 - val_accuracy: 0.9511 - val_loss: 0.1731\n",
      "Epoch 109/120\n",
      "\u001b[1m127/127\u001b[0m \u001b[32m━━━━━━━━━━━━━━━━━━━━\u001b[0m\u001b[37m\u001b[0m \u001b[1m0s\u001b[0m 2ms/step - accuracy: 0.8598 - loss: 0.4273 - val_accuracy: 0.9600 - val_loss: 0.1658\n",
      "Epoch 110/120\n",
      "\u001b[1m127/127\u001b[0m \u001b[32m━━━━━━━━━━━━━━━━━━━━\u001b[0m\u001b[37m\u001b[0m \u001b[1m0s\u001b[0m 3ms/step - accuracy: 0.8608 - loss: 0.4372 - val_accuracy: 0.9511 - val_loss: 0.1613\n",
      "Epoch 111/120\n",
      "\u001b[1m127/127\u001b[0m \u001b[32m━━━━━━━━━━━━━━━━━━━━\u001b[0m\u001b[37m\u001b[0m \u001b[1m0s\u001b[0m 3ms/step - accuracy: 0.8646 - loss: 0.4179 - val_accuracy: 0.9600 - val_loss: 0.1656\n",
      "Epoch 112/120\n",
      "\u001b[1m127/127\u001b[0m \u001b[32m━━━━━━━━━━━━━━━━━━━━\u001b[0m\u001b[37m\u001b[0m \u001b[1m0s\u001b[0m 3ms/step - accuracy: 0.8764 - loss: 0.3850 - val_accuracy: 0.9644 - val_loss: 0.1571\n",
      "Epoch 113/120\n",
      "\u001b[1m127/127\u001b[0m \u001b[32m━━━━━━━━━━━━━━━━━━━━\u001b[0m\u001b[37m\u001b[0m \u001b[1m0s\u001b[0m 2ms/step - accuracy: 0.8663 - loss: 0.4019 - val_accuracy: 0.9422 - val_loss: 0.1706\n",
      "Epoch 114/120\n",
      "\u001b[1m127/127\u001b[0m \u001b[32m━━━━━━━━━━━━━━━━━━━━\u001b[0m\u001b[37m\u001b[0m \u001b[1m0s\u001b[0m 3ms/step - accuracy: 0.8605 - loss: 0.4277 - val_accuracy: 0.9511 - val_loss: 0.1620\n",
      "Epoch 115/120\n",
      "\u001b[1m127/127\u001b[0m \u001b[32m━━━━━━━━━━━━━━━━━━━━\u001b[0m\u001b[37m\u001b[0m \u001b[1m0s\u001b[0m 3ms/step - accuracy: 0.8496 - loss: 0.4211 - val_accuracy: 0.9644 - val_loss: 0.1430\n",
      "Epoch 116/120\n",
      "\u001b[1m127/127\u001b[0m \u001b[32m━━━━━━━━━━━━━━━━━━━━\u001b[0m\u001b[37m\u001b[0m \u001b[1m0s\u001b[0m 3ms/step - accuracy: 0.8783 - loss: 0.3783 - val_accuracy: 0.9467 - val_loss: 0.1576\n",
      "Epoch 117/120\n",
      "\u001b[1m127/127\u001b[0m \u001b[32m━━━━━━━━━━━━━━━━━━━━\u001b[0m\u001b[37m\u001b[0m \u001b[1m0s\u001b[0m 2ms/step - accuracy: 0.8589 - loss: 0.4458 - val_accuracy: 0.9689 - val_loss: 0.1530\n",
      "Epoch 118/120\n",
      "\u001b[1m127/127\u001b[0m \u001b[32m━━━━━━━━━━━━━━━━━━━━\u001b[0m\u001b[37m\u001b[0m \u001b[1m0s\u001b[0m 3ms/step - accuracy: 0.8694 - loss: 0.4104 - val_accuracy: 0.9556 - val_loss: 0.1606\n",
      "Epoch 119/120\n",
      "\u001b[1m127/127\u001b[0m \u001b[32m━━━━━━━━━━━━━━━━━━━━\u001b[0m\u001b[37m\u001b[0m \u001b[1m0s\u001b[0m 2ms/step - accuracy: 0.8616 - loss: 0.3931 - val_accuracy: 0.9600 - val_loss: 0.1537\n",
      "Epoch 120/120\n",
      "\u001b[1m127/127\u001b[0m \u001b[32m━━━━━━━━━━━━━━━━━━━━\u001b[0m\u001b[37m\u001b[0m \u001b[1m0s\u001b[0m 3ms/step - accuracy: 0.8586 - loss: 0.4281 - val_accuracy: 0.9467 - val_loss: 0.1739\n"
     ]
    }
   ],
   "source": [
    "# Train the gold standard model\n",
    "gold_history = gold_standard_model.fit(\n",
    "    X_train_retained_train, y_train_retained_train,\n",
    "    batch_size=16,\n",
    "    epochs=120,  # Same as fine-tuning epochs for fairness\n",
    "    validation_data=(X_val_retained, y_val_retained),\n",
    "    verbose=1\n",
    ")\n",
    "\n",
    "# Save the gold standard model\n",
    "gold_standard_model.save('gold_standard_model.h5')"
   ]
  },
  {
   "cell_type": "code",
   "execution_count": 16,
   "id": "fd036f92",
   "metadata": {
    "execution": {
     "iopub.execute_input": "2024-12-14T06:40:09.451485Z",
     "iopub.status.busy": "2024-12-14T06:40:09.451126Z",
     "iopub.status.idle": "2024-12-14T06:40:09.849800Z",
     "shell.execute_reply": "2024-12-14T06:40:09.848872Z"
    },
    "papermill": {
     "duration": 0.492597,
     "end_time": "2024-12-14T06:40:09.852028",
     "exception": false,
     "start_time": "2024-12-14T06:40:09.359431",
     "status": "completed"
    },
    "tags": []
   },
   "outputs": [
    {
     "data": {
      "image/png": "[encoded data removed]",
      "text/plain": [
       "<Figure size 1200x400 with 2 Axes>"
      ]
     },
     "metadata": {},
     "output_type": "display_data"
    }
   ],
   "source": [
    "plt.figure(figsize=(12, 4))\n",
    "\n",
    "# Plot accuracy\n",
    "plt.subplot(1,2,1)\n",
    "plt.plot(gold_history.history['accuracy'], label='Train')\n",
    "plt.plot(gold_history.history['val_accuracy'], label='Validation')\n",
    "plt.title('Model Accuracy')\n",
    "plt.xlabel('Epoch')\n",
    "plt.ylabel('Accuracy')\n",
    "plt.legend()\n",
    "\n",
    "# Plot loss\n",
    "plt.subplot(1,2,2)\n",
    "plt.plot(gold_history.history['loss'], label='Train')\n",
    "plt.plot(gold_history.history['val_loss'], label='Validation')\n",
    "plt.title('Model Loss')\n",
    "plt.xlabel('Epoch')\n",
    "plt.ylabel('Loss')\n",
    "plt.legend()\n",
    "\n",
    "plt.show()"
   ]
  },
  {
   "cell_type": "code",
   "execution_count": 17,
   "id": "f88ba27f",
   "metadata": {
    "execution": {
     "iopub.execute_input": "2024-12-14T06:40:10.036123Z",
     "iopub.status.busy": "2024-12-14T06:40:10.035438Z",
     "iopub.status.idle": "2024-12-14T06:40:10.039412Z",
     "shell.execute_reply": "2024-12-14T06:40:10.038548Z"
    },
    "papermill": {
     "duration": 0.097167,
     "end_time": "2024-12-14T06:40:10.041103",
     "exception": false,
     "start_time": "2024-12-14T06:40:09.943936",
     "status": "completed"
    },
    "tags": []
   },
   "outputs": [],
   "source": [
    "# # Predictions from the gold standard model\n",
    "# check_performance(X_excluded, y_excluded, gold_standard_model, 'gold standard model', 'excluded set')\n",
    "# check_performance(X_excluded, y_excluded, model, 'full dataset model', 'excluded set')"
   ]
  },
  {
   "cell_type": "markdown",
   "id": "91815967",
   "metadata": {
    "papermill": {
     "duration": 0.089513,
     "end_time": "2024-12-14T06:40:10.221308",
     "exception": false,
     "start_time": "2024-12-14T06:40:10.131795",
     "status": "completed"
    },
    "tags": []
   },
   "source": [
    "# Unlearning"
   ]
  },
  {
   "cell_type": "code",
   "execution_count": 18,
   "id": "7fbd7b67",
   "metadata": {
    "execution": {
     "iopub.execute_input": "2024-12-14T06:40:10.402987Z",
     "iopub.status.busy": "2024-12-14T06:40:10.402642Z",
     "iopub.status.idle": "2024-12-14T06:40:10.409781Z",
     "shell.execute_reply": "2024-12-14T06:40:10.408575Z"
    },
    "papermill": {
     "duration": 0.100197,
     "end_time": "2024-12-14T06:40:10.411489",
     "exception": false,
     "start_time": "2024-12-14T06:40:10.311292",
     "status": "completed"
    },
    "tags": []
   },
   "outputs": [],
   "source": [
    "def reset_layer_weights(layer):\n",
    "  \"\"\"Resets the weights of a given layer.\"\"\"\n",
    "  if hasattr(layer, 'kernel_initializer'):\n",
    "    layer.kernel.assign(layer.kernel_initializer(layer.kernel.shape))\n",
    "  if hasattr(layer, 'bias_initializer'):\n",
    "    layer.bias.assign(layer.bias_initializer(layer.bias.shape))\n",
    "\n",
    "\n",
    "def weight_perturbation(layers, scale):\n",
    "    max = len(layers) - 1\n",
    "    layer_to_skip = np.random.randint(low=0, high=max)\n",
    "    i = 0\n",
    "    print(layer_to_skip)\n",
    "    for layer in layers:\n",
    "        if i == layer_to_skip:\n",
    "            layer.trainable = False\n",
    "            continue\n",
    "\n",
    "        layer.trainable = True\n",
    "        trainable_weights = layer.trainable_variables\n",
    "\n",
    "        for weight in trainable_weights:\n",
    "            random_weights = tf.random.normal(tf.shape(weight), mean=0.0, stddev=1.0, dtype=tf.float32)\n",
    "            random_weights = random_weights * scale\n",
    "            weight.assign_add(random_weights)\n",
    "\n",
    "\n"
   ]
  },
  {
   "cell_type": "code",
   "execution_count": 19,
   "id": "13dd5991",
   "metadata": {
    "execution": {
     "iopub.execute_input": "2024-12-14T06:40:10.591923Z",
     "iopub.status.busy": "2024-12-14T06:40:10.591526Z",
     "iopub.status.idle": "2024-12-14T06:43:52.615534Z",
     "shell.execute_reply": "2024-12-14T06:43:52.614539Z"
    },
    "papermill": {
     "duration": 222.115574,
     "end_time": "2024-12-14T06:43:52.617223",
     "exception": false,
     "start_time": "2024-12-14T06:40:10.501649",
     "status": "completed"
    },
    "tags": []
   },
   "outputs": [
    {
     "name": "stdout",
     "output_type": "stream",
     "text": [
      "4\n",
      "4\n",
      "0\n",
      "1\n",
      "2\n",
      "\u001b[1m8/8\u001b[0m \u001b[32m━━━━━━━━━━━━━━━━━━━━\u001b[0m\u001b[37m\u001b[0m \u001b[1m1s\u001b[0m 61ms/step\n",
      "base model performance on retained test set:\n",
      "0.9359640462736438\n",
      "\u001b[1m16/16\u001b[0m \u001b[32m━━━━━━━━━━━━━━━━━━━━\u001b[0m\u001b[37m\u001b[0m \u001b[1m0s\u001b[0m 19ms/step\n",
      "base model performance on excluded set:\n",
      "0.9681069709460484\n",
      "\u001b[1m8/8\u001b[0m \u001b[32m━━━━━━━━━━━━━━━━━━━━\u001b[0m\u001b[37m\u001b[0m \u001b[1m1s\u001b[0m 40ms/step\n",
      "gold model performance on retained test set:\n",
      "0.9589339655053941\n",
      "\u001b[1m16/16\u001b[0m \u001b[32m━━━━━━━━━━━━━━━━━━━━\u001b[0m\u001b[37m\u001b[0m \u001b[1m0s\u001b[0m 10ms/step\n",
      "gold model performance on excluded set:\n",
      "0.6808025618391471\n",
      "\u001b[1m8/8\u001b[0m \u001b[32m━━━━━━━━━━━━━━━━━━━━\u001b[0m\u001b[37m\u001b[0m \u001b[1m1s\u001b[0m 40ms/step\n",
      "unlearn model performance on retained test set:\n",
      "0.9157386981428497\n",
      "\u001b[1m16/16\u001b[0m \u001b[32m━━━━━━━━━━━━━━━━━━━━\u001b[0m\u001b[37m\u001b[0m \u001b[1m0s\u001b[0m 10ms/step\n",
      "unlearn model performance on excluded set:\n",
      "0.8302591863186599\n",
      "2\n",
      "2\n",
      "2\n",
      "4\n",
      "4\n",
      "\u001b[1m8/8\u001b[0m \u001b[32m━━━━━━━━━━━━━━━━━━━━\u001b[0m\u001b[37m\u001b[0m \u001b[1m1s\u001b[0m 40ms/step\n",
      "unlearn model performance on retained test set:\n",
      "0.9133345576004231\n",
      "\u001b[1m16/16\u001b[0m \u001b[32m━━━━━━━━━━━━━━━━━━━━\u001b[0m\u001b[37m\u001b[0m \u001b[1m0s\u001b[0m 10ms/step\n",
      "unlearn model performance on excluded set:\n",
      "0.7317393003860383\n",
      "4\n",
      "1\n",
      "3\n",
      "1\n",
      "1\n",
      "\u001b[1m8/8\u001b[0m \u001b[32m━━━━━━━━━━━━━━━━━━━━\u001b[0m\u001b[37m\u001b[0m \u001b[1m1s\u001b[0m 40ms/step\n",
      "unlearn model performance on retained test set:\n",
      "0.9084527644063588\n",
      "\u001b[1m16/16\u001b[0m \u001b[32m━━━━━━━━━━━━━━━━━━━━\u001b[0m\u001b[37m\u001b[0m \u001b[1m0s\u001b[0m 9ms/step\n",
      "unlearn model performance on excluded set:\n",
      "0.730624636613169\n",
      "reset all batchnorm\n",
      "4\n",
      "4\n",
      "2\n",
      "2\n",
      "2\n",
      "\u001b[1m8/8\u001b[0m \u001b[32m━━━━━━━━━━━━━━━━━━━━\u001b[0m\u001b[37m\u001b[0m \u001b[1m1s\u001b[0m 41ms/step\n",
      "unlearn model performance on retained test set:\n",
      "0.912513130134748\n",
      "\u001b[1m16/16\u001b[0m \u001b[32m━━━━━━━━━━━━━━━━━━━━\u001b[0m\u001b[37m\u001b[0m \u001b[1m0s\u001b[0m 9ms/step\n",
      "unlearn model performance on excluded set:\n",
      "0.7925553519279065\n",
      "reset all batchnorm\n",
      "1\n",
      "3\n",
      "2\n",
      "0\n",
      "0\n",
      "\u001b[1m8/8\u001b[0m \u001b[32m━━━━━━━━━━━━━━━━━━━━\u001b[0m\u001b[37m\u001b[0m \u001b[1m1s\u001b[0m 40ms/step\n",
      "unlearn model performance on retained test set:\n",
      "0.904407681607745\n",
      "\u001b[1m16/16\u001b[0m \u001b[32m━━━━━━━━━━━━━━━━━━━━\u001b[0m\u001b[37m\u001b[0m \u001b[1m0s\u001b[0m 10ms/step\n",
      "unlearn model performance on excluded set:\n",
      "0.8388913809371423\n",
      "reset all batchnorm\n",
      "1\n",
      "0\n",
      "2\n",
      "2\n",
      "3\n",
      "\u001b[1m8/8\u001b[0m \u001b[32m━━━━━━━━━━━━━━━━━━━━\u001b[0m\u001b[37m\u001b[0m \u001b[1m1s\u001b[0m 43ms/step\n",
      "unlearn model performance on retained test set:\n",
      "0.9292021668583412\n",
      "\u001b[1m16/16\u001b[0m \u001b[32m━━━━━━━━━━━━━━━━━━━━\u001b[0m\u001b[37m\u001b[0m \u001b[1m0s\u001b[0m 10ms/step\n",
      "unlearn model performance on excluded set:\n",
      "0.7575808862953031\n",
      "reset convolution batchnorm\n",
      "1\n",
      "1\n",
      "1\n",
      "1\n",
      "0\n",
      "\u001b[1m8/8\u001b[0m \u001b[32m━━━━━━━━━━━━━━━━━━━━\u001b[0m\u001b[37m\u001b[0m \u001b[1m1s\u001b[0m 41ms/step\n",
      "unlearn model performance on retained test set:\n",
      "0.9551859723284906\n",
      "\u001b[1m16/16\u001b[0m \u001b[32m━━━━━━━━━━━━━━━━━━━━\u001b[0m\u001b[37m\u001b[0m \u001b[1m0s\u001b[0m 10ms/step\n",
      "unlearn model performance on excluded set:\n",
      "0.8356221216183967\n",
      "reset convolution batchnorm\n",
      "4\n",
      "1\n",
      "1\n",
      "4\n",
      "4\n",
      "\u001b[1m8/8\u001b[0m \u001b[32m━━━━━━━━━━━━━━━━━━━━\u001b[0m\u001b[37m\u001b[0m \u001b[1m1s\u001b[0m 40ms/step\n",
      "unlearn model performance on retained test set:\n",
      "0.8887637588560121\n",
      "\u001b[1m16/16\u001b[0m \u001b[32m━━━━━━━━━━━━━━━━━━━━\u001b[0m\u001b[37m\u001b[0m \u001b[1m0s\u001b[0m 10ms/step\n",
      "unlearn model performance on excluded set:\n",
      "0.79776723974405\n",
      "reset convolution batchnorm\n",
      "4\n",
      "3\n",
      "3\n",
      "2\n",
      "0\n",
      "\u001b[1m8/8\u001b[0m \u001b[32m━━━━━━━━━━━━━━━━━━━━\u001b[0m\u001b[37m\u001b[0m \u001b[1m1s\u001b[0m 40ms/step\n",
      "unlearn model performance on retained test set:\n",
      "0.9442830927334829\n",
      "\u001b[1m16/16\u001b[0m \u001b[32m━━━━━━━━━━━━━━━━━━━━\u001b[0m\u001b[37m\u001b[0m \u001b[1m0s\u001b[0m 10ms/step\n",
      "unlearn model performance on excluded set:\n",
      "0.8149632838954416\n"
     ]
    }
   ],
   "source": [
    "# step 1\n",
    "for p in range(3):\n",
    "    if p == 0:\n",
    "        reset_all_bn = 0\n",
    "        reset_conv_bn = 0\n",
    "    if p == 1:\n",
    "        reset_all_bn = 1\n",
    "        reset_conv_bn = 0\n",
    "    if p == 2:\n",
    "        reset_all_bn = 0\n",
    "        reset_conv_bn = 1\n",
    "    for q in range(3):\n",
    "        unlearn_model = keras.saving.load_model('/kaggle/working/initial_full_dataset_model.h5')\n",
    "        # check_performance(X_excluded, y_excluded, unlearn_model, 'full dataset model', 'excluded set')\n",
    "        reset_layer_weights(unlearn_model.layers[-1])\n",
    "        reset_layer_weights(unlearn_model.layers[-4])\n",
    "        \n",
    "        if reset_all_bn:\n",
    "            reset_layer_weights(unlearn_model.layers[1])\n",
    "            reset_layer_weights(unlearn_model.layers[5])\n",
    "            reset_layer_weights(unlearn_model.layers[9])\n",
    "            reset_layer_weights(unlearn_model.layers[13])\n",
    "            reset_layer_weights(unlearn_model.layers[-2])\n",
    "            print('reset all batchnorm')\n",
    "        \n",
    "        if reset_conv_bn:\n",
    "            reset_layer_weights(unlearn_model.layers[1])\n",
    "            reset_layer_weights(unlearn_model.layers[5])\n",
    "            reset_layer_weights(unlearn_model.layers[9])\n",
    "            reset_layer_weights(unlearn_model.layers[13])\n",
    "            print('reset convolution batchnorm')\n",
    "        # check_performance(X_excluded, y_excluded, unlearn_model, 'head-reset full dataset model', 'excluded set')\n",
    "    \n",
    "        # check_performance(X_excluded, y_excluded, unlearn_model, 'head-reset full dataset model', 'excluded set')\n",
    "        new_opt = keras.optimizers.Adam(0.001)\n",
    "        unlearn_model.compile(optimizer=new_opt, loss='categorical_crossentropy', metrics=['accuracy'])\n",
    "        unlearn_history_step_1 = unlearn_model.fit(\n",
    "            X_train_retained_train, y_train_retained_train,\n",
    "            batch_size=16,\n",
    "            epochs=5,  # Same as fine-tuning epochs for fairness\n",
    "            validation_data=(X_val_retained, y_val_retained),\n",
    "            verbose=0\n",
    "        )\n",
    "        unlearn_model.save('finetuned_model_0.h5')\n",
    "    \n",
    "        # step 2\n",
    "        unlearn_model.trainable = True\n",
    "        unlearn_model.trainable = False\n",
    "        \n",
    "        conv_0 = unlearn_model.layers[0]\n",
    "        conv_1 = unlearn_model.layers[4]\n",
    "        conv_2 = unlearn_model.layers[8]\n",
    "        conv_3 = unlearn_model.layers[12]\n",
    "        fc_0 = unlearn_model.layers[-4]\n",
    "        fc_1 = unlearn_model.layers[-1]\n",
    "        \n",
    "        assert conv_0.trainable == False\n",
    "        assert conv_1.trainable == False\n",
    "        assert conv_2.trainable == False\n",
    "        assert conv_3.trainable == False\n",
    "        \n",
    "        unlearn_model.layers[0].trainable = True\n",
    "        unlearn_model.layers[4].trainable = True\n",
    "        unlearn_model.layers[8].trainable = True\n",
    "        unlearn_model.layers[12].trainable = True\n",
    "        \n",
    "        assert unlearn_model.layers[0].trainable == True\n",
    "        assert unlearn_model.layers[4].trainable == True\n",
    "        assert unlearn_model.layers[8].trainable == True\n",
    "        assert unlearn_model.layers[12].trainable == True\n",
    "        \n",
    "        assert unlearn_model.layers[-1].trainable == False\n",
    "        assert unlearn_model.layers[-4].trainable == False\n",
    "        \n",
    "        conv_layers = [conv_0, conv_1, conv_2, conv_3, fc_0, fc_1]\n",
    "        \n",
    "        # check_performance(X, y, unlearn_model, 'post_step_1_unlearned_model', 'full set')\n",
    "        # check_performance(X_excluded, y_excluded, unlearn_model, 'post_step_1_unlearned_model', 'excluded set')\n",
    "    \n",
    "        # train the noise injected layers\n",
    "        for i in range(5):\n",
    "        \n",
    "            weight_perturbation(conv_layers, 0.08)\n",
    "            # check_performance(X, y, unlearn_model, 'noise_injected_unlearned_model', 'full set')\n",
    "            # check_performance(X_excluded, y_excluded, unlearn_model, 'noise_injected_unlearned_model', 'excluded set')\n",
    "            \n",
    "            unlearn_model.fit(\n",
    "                X_train_retained_train, y_train_retained_train,\n",
    "                batch_size=16,\n",
    "                epochs=1,  # Same as fine-tuning epochs for fairness\n",
    "                validation_data=(X_val_retained, y_val_retained),\n",
    "                verbose=0, shuffle=True)\n",
    "            \n",
    "            # check_performance(X, y, unlearn_model, 'post_step_2_unlearned_model', 'full set')\n",
    "            # check_performance(X_excluded, y_excluded, unlearn_model, 'post_step_2_unlearned_model', 'excluded set')\n",
    "        unlearn_model.save('finetuned_model_1.h5')\n",
    "    \n",
    "    \n",
    "        # step 3 fintune entire model with low l_r\n",
    "        unlearn_model.trainable = True\n",
    "        \n",
    "        assert conv_0.trainable == True\n",
    "        assert conv_1.trainable == True\n",
    "        assert conv_2.trainable == True\n",
    "        assert conv_3.trainable == True\n",
    "        \n",
    "        assert unlearn_model.layers[-1].trainable == True\n",
    "        assert unlearn_model.layers[-4].trainable == True\n",
    "        \n",
    "        # fine_opt = keras.optimizers.Adam(0.001)\n",
    "        # unlearn_model.compile(optimizer=fine_opt, loss='categorical_crossentropy', metrics=['accuracy'])\n",
    "        unlearn_model.fit(\n",
    "            X_train_retained_train, y_train_retained_train,\n",
    "            batch_size=16,\n",
    "            epochs=5,\n",
    "            validation_data=(X_val_retained, y_val_retained),\n",
    "            verbose=0, shuffle=True)\n",
    "        unlearn_model.save('finetuned_model_3.h5')\n",
    "        \n",
    "        # check_performance(X, y, unlearn_model, 'unlearned_model', 'full set')\n",
    "        # check_performance(X_excluded, y_excluded, unlearn_model, 'unlearned_model', 'excluded set')\n",
    "\n",
    "        # base model performance\n",
    "        if q == 0 and p == 0:\n",
    "            check_performance(X_test_retained, y_test_retained, model, 'base model', 'retained test set')\n",
    "            check_performance(X_excluded, y_excluded, model, 'base model', 'excluded set')\n",
    "        \n",
    "            # gold model performance\n",
    "            check_performance(X_test_retained, y_test_retained, gold_standard_model, 'gold model', 'retained test set')\n",
    "            check_performance(X_excluded, y_excluded, gold_standard_model, 'gold model', 'excluded set')\n",
    "            \n",
    "        # unlearn model performance\n",
    "        check_performance(X_test_retained, y_test_retained, unlearn_model, 'unlearn model', 'retained test set')\n",
    "        check_performance(X_excluded, y_excluded, unlearn_model, 'unlearn model', 'excluded set')\n",
    "    "
   ]
  },
  {
   "cell_type": "code",
   "execution_count": null,
   "id": "16473456",
   "metadata": {
    "papermill": {
     "duration": 0.095233,
     "end_time": "2024-12-14T06:43:52.809019",
     "exception": false,
     "start_time": "2024-12-14T06:43:52.713786",
     "status": "completed"
    },
    "tags": []
   },
   "outputs": [],
   "source": []
  }
 ],
 "metadata": {
  "kaggle": {
   "accelerator": "gpu",
   "dataSources": [
    {
     "datasetId": 6240249,
     "sourceId": 10114315,
     "sourceType": "datasetVersion"
    }
   ],
   "dockerImageVersionId": 30804,
   "isGpuEnabled": true,
   "isInternetEnabled": true,
   "language": "python",
   "sourceType": "notebook"
  },
  "kernelspec": {
   "display_name": "Python 3",
   "language": "python",
   "name": "python3"
  },
  "language_info": {
   "codemirror_mode": {
    "name": "ipython",
    "version": 3
   },
   "file_extension": ".py",
   "mimetype": "text/x-python",
   "name": "python",
   "nbconvert_exporter": "python",
   "pygments_lexer": "ipython3",
   "version": "3.10.14"
  },
  "papermill": {
   "default_parameters": {},
   "duration": 407.864139,
   "end_time": "2024-12-14T06:43:56.787022",
   "environment_variables": {},
   "exception": null,
   "input_path": "__notebook__.ipynb",
   "output_path": "__notebook__.ipynb",
   "parameters": {},
   "start_time": "2024-12-14T06:37:08.922883",
   "version": "2.6.0"
  }
 },
 "nbformat": 4,
 "nbformat_minor": 5
}
